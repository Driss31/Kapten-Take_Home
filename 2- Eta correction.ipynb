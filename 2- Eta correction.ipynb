{
 "cells": [
  {
   "cell_type": "markdown",
   "metadata": {},
   "source": [
    "# Introduction"
   ]
  },
  {
   "cell_type": "markdown",
   "metadata": {},
   "source": [
    "Kapten is a french ride hailing plateform which matches users asking for rides with drivers. \n",
    "When a user commands a ride, we announce to him an estimated eta (estimated time of arrival) of the driver. \n",
    "Unfortunately, the eta can be different from the rta (real time of approach): This leads to a bad user experience (frustration, ride cancellation, ...) .\n",
    "\n",
    "Since Kapten's strategy is based on customer satisfaction and transparency, we want the eta to be as close as possible to the rta."
   ]
  },
  {
   "cell_type": "markdown",
   "metadata": {},
   "source": [
    "# Your mission"
   ]
  },
  {
   "cell_type": "markdown",
   "metadata": {},
   "source": [
    "We will give you a csv that contains many rides data. Your mission is to use this data source in order to help Kapten to improve its etas exactness by using machine learning algorithms."
   ]
  },
  {
   "cell_type": "markdown",
   "metadata": {},
   "source": [
    "## Columns definition"
   ]
  },
  {
   "cell_type": "markdown",
   "metadata": {},
   "source": [
    "The csv contains the following columns:\n",
    "\n",
    "- `command_date`: The command date.\n",
    "- `bird_flight_distance`: The bird flight distance (in meters) that separes the driver and the user.\n",
    "- `car_type`: The driver's car type.\n",
    "- `surge`: The surge coefficient (During peak hours, we multiply rides prices by this coefficient)\n",
    "- `address`: The ride's start address.\n",
    "- `is_from_airport`: A boolean indicating whether the ride starts from an airport or not.\n",
    "- `eta`: The estimated time of arrival.\n",
    "- `rta`: The real time of arrival"
   ]
  },
  {
   "cell_type": "markdown",
   "metadata": {},
   "source": [
    "Your target variable is the column `rta`, you can use all the other variables as input for your algorithm.\n"
   ]
  },
  {
   "cell_type": "markdown",
   "metadata": {},
   "source": [
    "### P.S"
   ]
  },
  {
   "cell_type": "markdown",
   "metadata": {},
   "source": [
    "Please, do not spend more than three hours on this test. Our goal is not to have an exact solution but to test your approach when dealing with a machine learning problems."
   ]
  },
  {
   "cell_type": "markdown",
   "metadata": {},
   "source": [
    "# Step by Step:\n",
    "During this test, we will guide you throught many sections:\n",
    "    - Data analysis\n",
    "    - Handle empty data and outliers\n",
    "    - Apply one machine learning algorithm\n",
    "    - Conclusion.\n",
    " \n",
    "For each section, you can add as cells as possible.\n",
    "Please, do not hesitate to add another section or cells if you think it is necessary."
   ]
  },
  {
   "cell_type": "code",
   "execution_count": 614,
   "metadata": {},
   "outputs": [],
   "source": [
    "import pandas as pd\n",
    "\n",
    "import numpy as np\n",
    "\n",
    "import matplotlib.pyplot as plt\n",
    "%matplotlib inline\n",
    "\n",
    "import seaborn as sns\n",
    "sns.set()\n",
    "\n",
    "from scipy.stats import pearsonr\n",
    "\n",
    "# Metrics\n",
    "from sklearn.metrics import mean_absolute_error\n",
    "from sklearn.metrics import mean_squared_error\n",
    "\n",
    "# Preprocessing\n",
    "from sklearn.preprocessing import OneHotEncoder\n",
    "from sklearn.preprocessing import MinMaxScaler\n",
    "\n",
    "# Models\n",
    "from xgboost import XGBRegressor\n",
    "from sklearn.ensemble import RandomForestRegressor\n",
    "\n",
    "# Linear Models\n",
    "from sklearn.linear_model import Lasso\n",
    "from sklearn.linear_model import LinearRegression\n",
    "from sklearn.linear_model import Ridge\n",
    "\n",
    "\n",
    "from sklearn.model_selection import cross_validate"
   ]
  },
  {
   "cell_type": "code",
   "execution_count": 545,
   "metadata": {},
   "outputs": [],
   "source": [
    "# Read data\n",
    "etas_df = pd.read_csv('etas_data.csv')"
   ]
  },
  {
   "cell_type": "markdown",
   "metadata": {},
   "source": [
    "## 0. Dataset quick Analysis"
   ]
  },
  {
   "cell_type": "code",
   "execution_count": 546,
   "metadata": {},
   "outputs": [],
   "source": [
    "def overview_features(df):\n",
    "    \"\"\"\n",
    "    Returns the ratio of nulls values, type and cardinality of each feature\"\"\"\n",
    "    columns = df.columns\n",
    "    types = df.dtypes.values\n",
    "    cardinality = df.nunique().values\n",
    "    nulls = df.isnull().sum()\n",
    "    nulls_ratio = ((df.isnull().sum() / len(df)).values * 100).round(2)\n",
    "\n",
    "    df_desc = pd.DataFrame({'Feat'       : columns, \n",
    "                            'Nulls'      : nulls,\n",
    "                            'Nulls (%)'  : nulls_ratio, \n",
    "                            'Type'       : types, \n",
    "                            'Cardinality': cardinality}).set_index('Feat').sort_values(by='Cardinality')\n",
    "    df_desc.Type.value_counts()\n",
    "    \n",
    "    return df_desc\n"
   ]
  },
  {
   "cell_type": "code",
   "execution_count": 547,
   "metadata": {},
   "outputs": [
    {
     "name": "stdout",
     "output_type": "stream",
     "text": [
      "Dataframe shape: (30000, 8)\n"
     ]
    },
    {
     "data": {
      "text/html": [
       "<div>\n",
       "<style scoped>\n",
       "    .dataframe tbody tr th:only-of-type {\n",
       "        vertical-align: middle;\n",
       "    }\n",
       "\n",
       "    .dataframe tbody tr th {\n",
       "        vertical-align: top;\n",
       "    }\n",
       "\n",
       "    .dataframe thead th {\n",
       "        text-align: right;\n",
       "    }\n",
       "</style>\n",
       "<table border=\"1\" class=\"dataframe\">\n",
       "  <thead>\n",
       "    <tr style=\"text-align: right;\">\n",
       "      <th></th>\n",
       "      <th>command_date</th>\n",
       "      <th>bird_flight_distance</th>\n",
       "      <th>car_type</th>\n",
       "      <th>surge</th>\n",
       "      <th>address</th>\n",
       "      <th>is_from_airport</th>\n",
       "      <th>eta</th>\n",
       "      <th>rta</th>\n",
       "    </tr>\n",
       "  </thead>\n",
       "  <tbody>\n",
       "    <tr>\n",
       "      <td>0</td>\n",
       "      <td>2018-01-09 20:59:39.929000+00:00</td>\n",
       "      <td>265.707401</td>\n",
       "      <td>standard</td>\n",
       "      <td>1.0</td>\n",
       "      <td>86 Rue du Point du Jour</td>\n",
       "      <td>False</td>\n",
       "      <td>69</td>\n",
       "      <td>134</td>\n",
       "    </tr>\n",
       "    <tr>\n",
       "      <td>1</td>\n",
       "      <td>2018-01-09 19:01:31.441000+00:00</td>\n",
       "      <td>265.131829</td>\n",
       "      <td>standard</td>\n",
       "      <td>1.0</td>\n",
       "      <td>6 Rue Duret</td>\n",
       "      <td>False</td>\n",
       "      <td>232</td>\n",
       "      <td>208</td>\n",
       "    </tr>\n",
       "  </tbody>\n",
       "</table>\n",
       "</div>"
      ],
      "text/plain": [
       "                       command_date  bird_flight_distance  car_type  surge  \\\n",
       "0  2018-01-09 20:59:39.929000+00:00            265.707401  standard    1.0   \n",
       "1  2018-01-09 19:01:31.441000+00:00            265.131829  standard    1.0   \n",
       "\n",
       "                   address is_from_airport  eta  rta  \n",
       "0  86 Rue du Point du Jour           False   69  134  \n",
       "1              6 Rue Duret           False  232  208  "
      ]
     },
     "execution_count": 547,
     "metadata": {},
     "output_type": "execute_result"
    }
   ],
   "source": [
    "print('Dataframe shape:', etas_df.shape)\n",
    "etas_df.head(2)"
   ]
  },
  {
   "cell_type": "code",
   "execution_count": 548,
   "metadata": {
    "scrolled": true
   },
   "outputs": [
    {
     "data": {
      "text/html": [
       "<div>\n",
       "<style scoped>\n",
       "    .dataframe tbody tr th:only-of-type {\n",
       "        vertical-align: middle;\n",
       "    }\n",
       "\n",
       "    .dataframe tbody tr th {\n",
       "        vertical-align: top;\n",
       "    }\n",
       "\n",
       "    .dataframe thead th {\n",
       "        text-align: right;\n",
       "    }\n",
       "</style>\n",
       "<table border=\"1\" class=\"dataframe\">\n",
       "  <thead>\n",
       "    <tr style=\"text-align: right;\">\n",
       "      <th></th>\n",
       "      <th>Nulls</th>\n",
       "      <th>Nulls (%)</th>\n",
       "      <th>Type</th>\n",
       "      <th>Cardinality</th>\n",
       "    </tr>\n",
       "    <tr>\n",
       "      <th>Feat</th>\n",
       "      <th></th>\n",
       "      <th></th>\n",
       "      <th></th>\n",
       "      <th></th>\n",
       "    </tr>\n",
       "  </thead>\n",
       "  <tbody>\n",
       "    <tr>\n",
       "      <td>is_from_airport</td>\n",
       "      <td>1554</td>\n",
       "      <td>5.18</td>\n",
       "      <td>object</td>\n",
       "      <td>2</td>\n",
       "    </tr>\n",
       "    <tr>\n",
       "      <td>car_type</td>\n",
       "      <td>0</td>\n",
       "      <td>0.00</td>\n",
       "      <td>object</td>\n",
       "      <td>3</td>\n",
       "    </tr>\n",
       "    <tr>\n",
       "      <td>surge</td>\n",
       "      <td>5967</td>\n",
       "      <td>19.89</td>\n",
       "      <td>float64</td>\n",
       "      <td>10</td>\n",
       "    </tr>\n",
       "    <tr>\n",
       "      <td>eta</td>\n",
       "      <td>0</td>\n",
       "      <td>0.00</td>\n",
       "      <td>int64</td>\n",
       "      <td>1263</td>\n",
       "    </tr>\n",
       "    <tr>\n",
       "      <td>rta</td>\n",
       "      <td>0</td>\n",
       "      <td>0.00</td>\n",
       "      <td>int64</td>\n",
       "      <td>1467</td>\n",
       "    </tr>\n",
       "    <tr>\n",
       "      <td>address</td>\n",
       "      <td>0</td>\n",
       "      <td>0.00</td>\n",
       "      <td>object</td>\n",
       "      <td>20209</td>\n",
       "    </tr>\n",
       "    <tr>\n",
       "      <td>bird_flight_distance</td>\n",
       "      <td>5</td>\n",
       "      <td>0.02</td>\n",
       "      <td>float64</td>\n",
       "      <td>29963</td>\n",
       "    </tr>\n",
       "    <tr>\n",
       "      <td>command_date</td>\n",
       "      <td>0</td>\n",
       "      <td>0.00</td>\n",
       "      <td>object</td>\n",
       "      <td>29997</td>\n",
       "    </tr>\n",
       "  </tbody>\n",
       "</table>\n",
       "</div>"
      ],
      "text/plain": [
       "                      Nulls  Nulls (%)     Type  Cardinality\n",
       "Feat                                                        \n",
       "is_from_airport        1554       5.18   object            2\n",
       "car_type                  0       0.00   object            3\n",
       "surge                  5967      19.89  float64           10\n",
       "eta                       0       0.00    int64         1263\n",
       "rta                       0       0.00    int64         1467\n",
       "address                   0       0.00   object        20209\n",
       "bird_flight_distance      5       0.02  float64        29963\n",
       "command_date              0       0.00   object        29997"
      ]
     },
     "execution_count": 548,
     "metadata": {},
     "output_type": "execute_result"
    }
   ],
   "source": [
    "overview_features(etas_df)"
   ]
  },
  {
   "cell_type": "markdown",
   "metadata": {},
   "source": [
    "**Observations:**\n",
    "    \n",
    "- 2 features with many missing values\n",
    "- 3 features with low cardinality"
   ]
  },
  {
   "cell_type": "markdown",
   "metadata": {},
   "source": [
    "#### Time range"
   ]
  },
  {
   "cell_type": "code",
   "execution_count": 549,
   "metadata": {},
   "outputs": [
    {
     "name": "stdout",
     "output_type": "stream",
     "text": [
      "From 2018-01-08 11:01:27.577000+00:00 to 2018-01-17 10:59:55.806000+00:00\n"
     ]
    }
   ],
   "source": [
    "print('From {} to {}'.format(min(etas_df.command_date), max(etas_df.command_date)))"
   ]
  },
  {
   "cell_type": "markdown",
   "metadata": {},
   "source": [
    "- Less than 10 days of data"
   ]
  },
  {
   "cell_type": "markdown",
   "metadata": {},
   "source": [
    "#### Duplicate rows ?"
   ]
  },
  {
   "cell_type": "code",
   "execution_count": 550,
   "metadata": {},
   "outputs": [
    {
     "name": "stdout",
     "output_type": "stream",
     "text": [
      "number of duplicate rows: 1\n"
     ]
    }
   ],
   "source": [
    "# Rows containing duplicate data\n",
    "duplicate_rows_df = etas_df[etas_df.duplicated()]\n",
    "print(\"number of duplicate rows: {}\".format(duplicate_rows_df.shape[0]))"
   ]
  },
  {
   "cell_type": "code",
   "execution_count": 551,
   "metadata": {},
   "outputs": [
    {
     "data": {
      "text/html": [
       "<div>\n",
       "<style scoped>\n",
       "    .dataframe tbody tr th:only-of-type {\n",
       "        vertical-align: middle;\n",
       "    }\n",
       "\n",
       "    .dataframe tbody tr th {\n",
       "        vertical-align: top;\n",
       "    }\n",
       "\n",
       "    .dataframe thead th {\n",
       "        text-align: right;\n",
       "    }\n",
       "</style>\n",
       "<table border=\"1\" class=\"dataframe\">\n",
       "  <thead>\n",
       "    <tr style=\"text-align: right;\">\n",
       "      <th></th>\n",
       "      <th>command_date</th>\n",
       "      <th>bird_flight_distance</th>\n",
       "      <th>car_type</th>\n",
       "      <th>surge</th>\n",
       "      <th>address</th>\n",
       "      <th>is_from_airport</th>\n",
       "      <th>eta</th>\n",
       "      <th>rta</th>\n",
       "    </tr>\n",
       "  </thead>\n",
       "  <tbody>\n",
       "    <tr>\n",
       "      <td>29678</td>\n",
       "      <td>2018-01-16 22:57:00+00:00</td>\n",
       "      <td>NaN</td>\n",
       "      <td>standard</td>\n",
       "      <td>1.0</td>\n",
       "      <td>26 Rue François 1er</td>\n",
       "      <td>False</td>\n",
       "      <td>0</td>\n",
       "      <td>0</td>\n",
       "    </tr>\n",
       "  </tbody>\n",
       "</table>\n",
       "</div>"
      ],
      "text/plain": [
       "                    command_date  bird_flight_distance  car_type  surge  \\\n",
       "29678  2018-01-16 22:57:00+00:00                   NaN  standard    1.0   \n",
       "\n",
       "                   address is_from_airport  eta  rta  \n",
       "29678  26 Rue François 1er           False    0    0  "
      ]
     },
     "execution_count": 551,
     "metadata": {},
     "output_type": "execute_result"
    }
   ],
   "source": [
    "duplicate_rows_df.head()"
   ]
  },
  {
   "cell_type": "code",
   "execution_count": 68,
   "metadata": {},
   "outputs": [
    {
     "data": {
      "text/html": [
       "<div>\n",
       "<style scoped>\n",
       "    .dataframe tbody tr th:only-of-type {\n",
       "        vertical-align: middle;\n",
       "    }\n",
       "\n",
       "    .dataframe tbody tr th {\n",
       "        vertical-align: top;\n",
       "    }\n",
       "\n",
       "    .dataframe thead th {\n",
       "        text-align: right;\n",
       "    }\n",
       "</style>\n",
       "<table border=\"1\" class=\"dataframe\">\n",
       "  <thead>\n",
       "    <tr style=\"text-align: right;\">\n",
       "      <th></th>\n",
       "      <th>command_date</th>\n",
       "      <th>bird_flight_distance</th>\n",
       "      <th>car_type</th>\n",
       "      <th>surge</th>\n",
       "      <th>address</th>\n",
       "      <th>is_from_airport</th>\n",
       "      <th>eta</th>\n",
       "      <th>rta</th>\n",
       "    </tr>\n",
       "  </thead>\n",
       "  <tbody>\n",
       "    <tr>\n",
       "      <td>5082</td>\n",
       "      <td>2018-01-16 22:57:00+00:00</td>\n",
       "      <td>NaN</td>\n",
       "      <td>standard</td>\n",
       "      <td>1.0</td>\n",
       "      <td>26 Rue François 1er</td>\n",
       "      <td>False</td>\n",
       "      <td>0</td>\n",
       "      <td>0</td>\n",
       "    </tr>\n",
       "    <tr>\n",
       "      <td>29678</td>\n",
       "      <td>2018-01-16 22:57:00+00:00</td>\n",
       "      <td>NaN</td>\n",
       "      <td>standard</td>\n",
       "      <td>1.0</td>\n",
       "      <td>26 Rue François 1er</td>\n",
       "      <td>False</td>\n",
       "      <td>0</td>\n",
       "      <td>0</td>\n",
       "    </tr>\n",
       "  </tbody>\n",
       "</table>\n",
       "</div>"
      ],
      "text/plain": [
       "                    command_date  bird_flight_distance  car_type  surge  \\\n",
       "5082   2018-01-16 22:57:00+00:00                   NaN  standard    1.0   \n",
       "29678  2018-01-16 22:57:00+00:00                   NaN  standard    1.0   \n",
       "\n",
       "                   address is_from_airport  eta  rta  \n",
       "5082   26 Rue François 1er           False    0    0  \n",
       "29678  26 Rue François 1er           False    0    0  "
      ]
     },
     "execution_count": 68,
     "metadata": {},
     "output_type": "execute_result"
    }
   ],
   "source": [
    "etas_df[etas_df.command_date == '2018-01-16 22:57:00+00:00']"
   ]
  },
  {
   "cell_type": "markdown",
   "metadata": {},
   "source": [
    "> I will keep it for now and remove it later"
   ]
  },
  {
   "cell_type": "markdown",
   "metadata": {},
   "source": [
    "## 1. Data analysis\n",
    "\n",
    "During this section, you have to analyse so briefly (in few lines) each of the following variables. \n",
    "Data visualization will be a plus"
   ]
  },
  {
   "cell_type": "markdown",
   "metadata": {},
   "source": [
    "### 1.1: bird_flight_distance analysis"
   ]
  },
  {
   "cell_type": "code",
   "execution_count": 552,
   "metadata": {},
   "outputs": [],
   "source": [
    "feature = 'bird_flight_distance'"
   ]
  },
  {
   "cell_type": "markdown",
   "metadata": {},
   "source": [
    "- Continuous feature\n",
    "- Very few missing values: 5 (0.02%)"
   ]
  },
  {
   "cell_type": "code",
   "execution_count": 553,
   "metadata": {},
   "outputs": [
    {
     "data": {
      "text/html": [
       "<div>\n",
       "<style scoped>\n",
       "    .dataframe tbody tr th:only-of-type {\n",
       "        vertical-align: middle;\n",
       "    }\n",
       "\n",
       "    .dataframe tbody tr th {\n",
       "        vertical-align: top;\n",
       "    }\n",
       "\n",
       "    .dataframe thead th {\n",
       "        text-align: right;\n",
       "    }\n",
       "</style>\n",
       "<table border=\"1\" class=\"dataframe\">\n",
       "  <thead>\n",
       "    <tr style=\"text-align: right;\">\n",
       "      <th></th>\n",
       "      <th>command_date</th>\n",
       "      <th>bird_flight_distance</th>\n",
       "      <th>car_type</th>\n",
       "      <th>surge</th>\n",
       "      <th>address</th>\n",
       "      <th>is_from_airport</th>\n",
       "      <th>eta</th>\n",
       "      <th>rta</th>\n",
       "    </tr>\n",
       "  </thead>\n",
       "  <tbody>\n",
       "    <tr>\n",
       "      <td>5082</td>\n",
       "      <td>2018-01-16 22:57:00+00:00</td>\n",
       "      <td>NaN</td>\n",
       "      <td>standard</td>\n",
       "      <td>1.0</td>\n",
       "      <td>26 Rue François 1er</td>\n",
       "      <td>False</td>\n",
       "      <td>0</td>\n",
       "      <td>0</td>\n",
       "    </tr>\n",
       "    <tr>\n",
       "      <td>19144</td>\n",
       "      <td>2018-01-11 17:09:29.059000+00:00</td>\n",
       "      <td>NaN</td>\n",
       "      <td>standard</td>\n",
       "      <td>1.0</td>\n",
       "      <td>3 Rue Aristide Briand</td>\n",
       "      <td>False</td>\n",
       "      <td>237</td>\n",
       "      <td>201</td>\n",
       "    </tr>\n",
       "    <tr>\n",
       "      <td>23239</td>\n",
       "      <td>2018-01-10 18:27:00+00:00</td>\n",
       "      <td>NaN</td>\n",
       "      <td>standard</td>\n",
       "      <td>1.0</td>\n",
       "      <td>82 Rue Henry Farman</td>\n",
       "      <td>False</td>\n",
       "      <td>0</td>\n",
       "      <td>0</td>\n",
       "    </tr>\n",
       "    <tr>\n",
       "      <td>26366</td>\n",
       "      <td>2018-01-14 12:59:00+00:00</td>\n",
       "      <td>NaN</td>\n",
       "      <td>standard</td>\n",
       "      <td>1.0</td>\n",
       "      <td>Aéroport de Paris - Orly</td>\n",
       "      <td>True</td>\n",
       "      <td>0</td>\n",
       "      <td>0</td>\n",
       "    </tr>\n",
       "    <tr>\n",
       "      <td>29678</td>\n",
       "      <td>2018-01-16 22:57:00+00:00</td>\n",
       "      <td>NaN</td>\n",
       "      <td>standard</td>\n",
       "      <td>1.0</td>\n",
       "      <td>26 Rue François 1er</td>\n",
       "      <td>False</td>\n",
       "      <td>0</td>\n",
       "      <td>0</td>\n",
       "    </tr>\n",
       "  </tbody>\n",
       "</table>\n",
       "</div>"
      ],
      "text/plain": [
       "                           command_date  bird_flight_distance  car_type  \\\n",
       "5082          2018-01-16 22:57:00+00:00                   NaN  standard   \n",
       "19144  2018-01-11 17:09:29.059000+00:00                   NaN  standard   \n",
       "23239         2018-01-10 18:27:00+00:00                   NaN  standard   \n",
       "26366         2018-01-14 12:59:00+00:00                   NaN  standard   \n",
       "29678         2018-01-16 22:57:00+00:00                   NaN  standard   \n",
       "\n",
       "       surge                   address is_from_airport  eta  rta  \n",
       "5082     1.0       26 Rue François 1er           False    0    0  \n",
       "19144    1.0     3 Rue Aristide Briand           False  237  201  \n",
       "23239    1.0       82 Rue Henry Farman           False    0    0  \n",
       "26366    1.0  Aéroport de Paris - Orly            True    0    0  \n",
       "29678    1.0       26 Rue François 1er           False    0    0  "
      ]
     },
     "execution_count": 553,
     "metadata": {},
     "output_type": "execute_result"
    }
   ],
   "source": [
    "# Missing values\n",
    "etas_df[etas_df[feature].isnull()]"
   ]
  },
  {
   "cell_type": "code",
   "execution_count": 92,
   "metadata": {},
   "outputs": [
    {
     "data": {
      "text/plain": [
       "<matplotlib.legend.Legend at 0x11da4a550>"
      ]
     },
     "execution_count": 92,
     "metadata": {},
     "output_type": "execute_result"
    },
    {
     "data": {
      "image/png": "[encoded data removed]",
      "text/plain": [
       "<Figure size 576x432 with 1 Axes>"
      ]
     },
     "metadata": {},
     "output_type": "display_data"
    }
   ],
   "source": [
    "plt.figure(figsize=(8,6))\n",
    "sns.distplot(etas_df[feature][~np.isnan(etas_df[feature])], \n",
    "             label='bird_flight_distance\\n\\nMedian: {}'.format(int(etas_df[feature].median())))\n",
    "plt.legend()"
   ]
  },
  {
   "cell_type": "code",
   "execution_count": 94,
   "metadata": {},
   "outputs": [
    {
     "name": "stdout",
     "output_type": "stream",
     "text": [
      "Mean value 1162.0907570794889\n",
      "Median value 872.1154930346028\n"
     ]
    }
   ],
   "source": [
    "print('Mean value {}'.format(etas_df[feature].mean()))\n",
    "print('Median value {}'.format(etas_df[feature].median()))"
   ]
  },
  {
   "cell_type": "markdown",
   "metadata": {},
   "source": [
    "- We can observe some points with very high values compared to the rest"
   ]
  },
  {
   "cell_type": "markdown",
   "metadata": {},
   "source": [
    "> Since 4 out of the 5 rows containing missing value have an eta=rta=0, let us see if the rows with eta=rta=0 have any specificity"
   ]
  },
  {
   "cell_type": "code",
   "execution_count": 554,
   "metadata": {
    "scrolled": true
   },
   "outputs": [
    {
     "data": {
      "text/html": [
       "<div>\n",
       "<style scoped>\n",
       "    .dataframe tbody tr th:only-of-type {\n",
       "        vertical-align: middle;\n",
       "    }\n",
       "\n",
       "    .dataframe tbody tr th {\n",
       "        vertical-align: top;\n",
       "    }\n",
       "\n",
       "    .dataframe thead th {\n",
       "        text-align: right;\n",
       "    }\n",
       "</style>\n",
       "<table border=\"1\" class=\"dataframe\">\n",
       "  <thead>\n",
       "    <tr style=\"text-align: right;\">\n",
       "      <th></th>\n",
       "      <th>command_date</th>\n",
       "      <th>bird_flight_distance</th>\n",
       "      <th>car_type</th>\n",
       "      <th>surge</th>\n",
       "      <th>address</th>\n",
       "      <th>is_from_airport</th>\n",
       "      <th>eta</th>\n",
       "      <th>rta</th>\n",
       "    </tr>\n",
       "  </thead>\n",
       "  <tbody>\n",
       "    <tr>\n",
       "      <td>5082</td>\n",
       "      <td>2018-01-16 22:57:00+00:00</td>\n",
       "      <td>NaN</td>\n",
       "      <td>standard</td>\n",
       "      <td>1.0</td>\n",
       "      <td>26 Rue François 1er</td>\n",
       "      <td>False</td>\n",
       "      <td>0</td>\n",
       "      <td>0</td>\n",
       "    </tr>\n",
       "    <tr>\n",
       "      <td>23239</td>\n",
       "      <td>2018-01-10 18:27:00+00:00</td>\n",
       "      <td>NaN</td>\n",
       "      <td>standard</td>\n",
       "      <td>1.0</td>\n",
       "      <td>82 Rue Henry Farman</td>\n",
       "      <td>False</td>\n",
       "      <td>0</td>\n",
       "      <td>0</td>\n",
       "    </tr>\n",
       "    <tr>\n",
       "      <td>26366</td>\n",
       "      <td>2018-01-14 12:59:00+00:00</td>\n",
       "      <td>NaN</td>\n",
       "      <td>standard</td>\n",
       "      <td>1.0</td>\n",
       "      <td>Aéroport de Paris - Orly</td>\n",
       "      <td>True</td>\n",
       "      <td>0</td>\n",
       "      <td>0</td>\n",
       "    </tr>\n",
       "    <tr>\n",
       "      <td>29678</td>\n",
       "      <td>2018-01-16 22:57:00+00:00</td>\n",
       "      <td>NaN</td>\n",
       "      <td>standard</td>\n",
       "      <td>1.0</td>\n",
       "      <td>26 Rue François 1er</td>\n",
       "      <td>False</td>\n",
       "      <td>0</td>\n",
       "      <td>0</td>\n",
       "    </tr>\n",
       "  </tbody>\n",
       "</table>\n",
       "</div>"
      ],
      "text/plain": [
       "                    command_date  bird_flight_distance  car_type  surge  \\\n",
       "5082   2018-01-16 22:57:00+00:00                   NaN  standard    1.0   \n",
       "23239  2018-01-10 18:27:00+00:00                   NaN  standard    1.0   \n",
       "26366  2018-01-14 12:59:00+00:00                   NaN  standard    1.0   \n",
       "29678  2018-01-16 22:57:00+00:00                   NaN  standard    1.0   \n",
       "\n",
       "                        address is_from_airport  eta  rta  \n",
       "5082        26 Rue François 1er           False    0    0  \n",
       "23239       82 Rue Henry Farman           False    0    0  \n",
       "26366  Aéroport de Paris - Orly            True    0    0  \n",
       "29678       26 Rue François 1er           False    0    0  "
      ]
     },
     "execution_count": 554,
     "metadata": {},
     "output_type": "execute_result"
    }
   ],
   "source": [
    "etas_df[(etas_df['eta'] == 0) & (etas_df['rta'] == 0)]"
   ]
  },
  {
   "cell_type": "code",
   "execution_count": 555,
   "metadata": {},
   "outputs": [
    {
     "data": {
      "text/html": [
       "<div>\n",
       "<style scoped>\n",
       "    .dataframe tbody tr th:only-of-type {\n",
       "        vertical-align: middle;\n",
       "    }\n",
       "\n",
       "    .dataframe tbody tr th {\n",
       "        vertical-align: top;\n",
       "    }\n",
       "\n",
       "    .dataframe thead th {\n",
       "        text-align: right;\n",
       "    }\n",
       "</style>\n",
       "<table border=\"1\" class=\"dataframe\">\n",
       "  <thead>\n",
       "    <tr style=\"text-align: right;\">\n",
       "      <th></th>\n",
       "      <th>command_date</th>\n",
       "      <th>bird_flight_distance</th>\n",
       "      <th>car_type</th>\n",
       "      <th>surge</th>\n",
       "      <th>address</th>\n",
       "      <th>is_from_airport</th>\n",
       "      <th>eta</th>\n",
       "      <th>rta</th>\n",
       "    </tr>\n",
       "  </thead>\n",
       "  <tbody>\n",
       "    <tr>\n",
       "      <td>5082</td>\n",
       "      <td>2018-01-16 22:57:00+00:00</td>\n",
       "      <td>NaN</td>\n",
       "      <td>standard</td>\n",
       "      <td>1.0</td>\n",
       "      <td>26 Rue François 1er</td>\n",
       "      <td>False</td>\n",
       "      <td>0</td>\n",
       "      <td>0</td>\n",
       "    </tr>\n",
       "    <tr>\n",
       "      <td>23239</td>\n",
       "      <td>2018-01-10 18:27:00+00:00</td>\n",
       "      <td>NaN</td>\n",
       "      <td>standard</td>\n",
       "      <td>1.0</td>\n",
       "      <td>82 Rue Henry Farman</td>\n",
       "      <td>False</td>\n",
       "      <td>0</td>\n",
       "      <td>0</td>\n",
       "    </tr>\n",
       "    <tr>\n",
       "      <td>26366</td>\n",
       "      <td>2018-01-14 12:59:00+00:00</td>\n",
       "      <td>NaN</td>\n",
       "      <td>standard</td>\n",
       "      <td>1.0</td>\n",
       "      <td>Aéroport de Paris - Orly</td>\n",
       "      <td>True</td>\n",
       "      <td>0</td>\n",
       "      <td>0</td>\n",
       "    </tr>\n",
       "    <tr>\n",
       "      <td>29678</td>\n",
       "      <td>2018-01-16 22:57:00+00:00</td>\n",
       "      <td>NaN</td>\n",
       "      <td>standard</td>\n",
       "      <td>1.0</td>\n",
       "      <td>26 Rue François 1er</td>\n",
       "      <td>False</td>\n",
       "      <td>0</td>\n",
       "      <td>0</td>\n",
       "    </tr>\n",
       "  </tbody>\n",
       "</table>\n",
       "</div>"
      ],
      "text/plain": [
       "                    command_date  bird_flight_distance  car_type  surge  \\\n",
       "5082   2018-01-16 22:57:00+00:00                   NaN  standard    1.0   \n",
       "23239  2018-01-10 18:27:00+00:00                   NaN  standard    1.0   \n",
       "26366  2018-01-14 12:59:00+00:00                   NaN  standard    1.0   \n",
       "29678  2018-01-16 22:57:00+00:00                   NaN  standard    1.0   \n",
       "\n",
       "                        address is_from_airport  eta  rta  \n",
       "5082        26 Rue François 1er           False    0    0  \n",
       "23239       82 Rue Henry Farman           False    0    0  \n",
       "26366  Aéroport de Paris - Orly            True    0    0  \n",
       "29678       26 Rue François 1er           False    0    0  "
      ]
     },
     "execution_count": 555,
     "metadata": {},
     "output_type": "execute_result"
    }
   ],
   "source": [
    "etas_df[etas_df['rta'] == 0]"
   ]
  },
  {
   "cell_type": "markdown",
   "metadata": {},
   "source": [
    "When the rta=0 we only have 4 observations. These rows can be bugs of the driver accepted directly the demand. I need to know more about this feature to choose between these two options:\n",
    "- Consider them as outliers \n",
    "- Replace NaN by 0 : rta=0 -> distance=0"
   ]
  },
  {
   "cell_type": "code",
   "execution_count": 559,
   "metadata": {},
   "outputs": [
    {
     "data": {
      "text/plain": [
       "Text(0, 0.5, 'rta')"
      ]
     },
     "execution_count": 559,
     "metadata": {},
     "output_type": "execute_result"
    },
    {
     "data": {
      "image/png": "[encoded data removed]",
      "text/plain": [
       "<Figure size 720x576 with 1 Axes>"
      ]
     },
     "metadata": {},
     "output_type": "display_data"
    }
   ],
   "source": [
    "plt.figure(figsize=(10,8))\n",
    "plt.scatter(etas_df['bird_flight_distance'], etas_df['rta'])\n",
    "plt.xlabel('bird_flight_distance', fontsize=15)\n",
    "plt.ylabel('rta', fontsize=15)"
   ]
  },
  {
   "cell_type": "markdown",
   "metadata": {},
   "source": [
    "- Here the dot at the top left looks like an outlier: waiting the driver for more than 2 hours for such a low distance seems weird. I will consider it as an outlier \n",
    "- I have some doubt when rta > 1 hour but I will keep them (I need to know more about these particular observations)"
   ]
  },
  {
   "cell_type": "markdown",
   "metadata": {},
   "source": [
    "- Concerning the dots at the bottom right, I cannot say if they are outliers or not, since they seem to belong to a line that represents the trend of : the more the distance is high the more it takes time\n",
    "- There might be another hub and trend when distance is low but rta is high (for trips inside city with traffic jam)"
   ]
  },
  {
   "cell_type": "code",
   "execution_count": 563,
   "metadata": {},
   "outputs": [
    {
     "data": {
      "text/plain": [
       "<seaborn.axisgrid.JointGrid at 0x156371a10>"
      ]
     },
     "execution_count": 563,
     "metadata": {},
     "output_type": "execute_result"
    },
    {
     "data": {
      "text/plain": [
       "<Figure size 720x576 with 0 Axes>"
      ]
     },
     "metadata": {},
     "output_type": "display_data"
    },
    {
     "data": {
      "image/png": "[encoded data removed]",
      "text/plain": [
       "<Figure size 432x432 with 3 Axes>"
      ]
     },
     "metadata": {},
     "output_type": "display_data"
    }
   ],
   "source": [
    "plt.figure(figsize=(10,8))\n",
    "\n",
    "df_temp = etas_df[(etas_df['rta'] < 3000) & (etas_df['bird_flight_distance'] < 6000)]\n",
    "sns.jointplot('bird_flight_distance', 'rta', data=df_temp,\n",
    "                           kind=\"kde\", space=0, color=\"g\")"
   ]
  },
  {
   "cell_type": "code",
   "execution_count": 85,
   "metadata": {},
   "outputs": [
    {
     "data": {
      "text/html": [
       "<div>\n",
       "<style scoped>\n",
       "    .dataframe tbody tr th:only-of-type {\n",
       "        vertical-align: middle;\n",
       "    }\n",
       "\n",
       "    .dataframe tbody tr th {\n",
       "        vertical-align: top;\n",
       "    }\n",
       "\n",
       "    .dataframe thead th {\n",
       "        text-align: right;\n",
       "    }\n",
       "</style>\n",
       "<table border=\"1\" class=\"dataframe\">\n",
       "  <thead>\n",
       "    <tr style=\"text-align: right;\">\n",
       "      <th></th>\n",
       "      <th>command_date</th>\n",
       "      <th>bird_flight_distance</th>\n",
       "      <th>car_type</th>\n",
       "      <th>surge</th>\n",
       "      <th>address</th>\n",
       "      <th>is_from_airport</th>\n",
       "      <th>eta</th>\n",
       "      <th>rta</th>\n",
       "    </tr>\n",
       "  </thead>\n",
       "  <tbody>\n",
       "    <tr>\n",
       "      <td>5898</td>\n",
       "      <td>2018-01-09 13:12:37.940000+00:00</td>\n",
       "      <td>728.487757</td>\n",
       "      <td>standard</td>\n",
       "      <td>1.0</td>\n",
       "      <td>54 Rue de la Balme</td>\n",
       "      <td>False</td>\n",
       "      <td>313</td>\n",
       "      <td>3767</td>\n",
       "    </tr>\n",
       "    <tr>\n",
       "      <td>12776</td>\n",
       "      <td>2018-01-11 11:28:50.999000+00:00</td>\n",
       "      <td>1298.902661</td>\n",
       "      <td>standard</td>\n",
       "      <td>1.0</td>\n",
       "      <td>44 Rue Traversière, • 92772 Boulogne-Billancou...</td>\n",
       "      <td>False</td>\n",
       "      <td>228</td>\n",
       "      <td>3051</td>\n",
       "    </tr>\n",
       "    <tr>\n",
       "      <td>22909</td>\n",
       "      <td>2018-01-09 06:53:56.934000+00:00</td>\n",
       "      <td>730.666589</td>\n",
       "      <td>standard</td>\n",
       "      <td>1.0</td>\n",
       "      <td>9 Place de la Bourse</td>\n",
       "      <td>False</td>\n",
       "      <td>301</td>\n",
       "      <td>7656</td>\n",
       "    </tr>\n",
       "    <tr>\n",
       "      <td>26227</td>\n",
       "      <td>2018-01-17 04:10:10.846000+00:00</td>\n",
       "      <td>692.590552</td>\n",
       "      <td>standard</td>\n",
       "      <td>1.0</td>\n",
       "      <td>1 Rue du Four</td>\n",
       "      <td>False</td>\n",
       "      <td>88</td>\n",
       "      <td>3287</td>\n",
       "    </tr>\n",
       "  </tbody>\n",
       "</table>\n",
       "</div>"
      ],
      "text/plain": [
       "                           command_date  bird_flight_distance  car_type  \\\n",
       "5898   2018-01-09 13:12:37.940000+00:00            728.487757  standard   \n",
       "12776  2018-01-11 11:28:50.999000+00:00           1298.902661  standard   \n",
       "22909  2018-01-09 06:53:56.934000+00:00            730.666589  standard   \n",
       "26227  2018-01-17 04:10:10.846000+00:00            692.590552  standard   \n",
       "\n",
       "       surge                                            address  \\\n",
       "5898     1.0                                 54 Rue de la Balme   \n",
       "12776    1.0  44 Rue Traversière, • 92772 Boulogne-Billancou...   \n",
       "22909    1.0                               9 Place de la Bourse   \n",
       "26227    1.0                                      1 Rue du Four   \n",
       "\n",
       "      is_from_airport  eta   rta  \n",
       "5898            False  313  3767  \n",
       "12776           False  228  3051  \n",
       "22909           False  301  7656  \n",
       "26227           False   88  3287  "
      ]
     },
     "execution_count": 85,
     "metadata": {},
     "output_type": "execute_result"
    }
   ],
   "source": [
    "etas_df[etas_df.rta > 3000]"
   ]
  },
  {
   "cell_type": "markdown",
   "metadata": {},
   "source": [
    "> When looking at the outliers that appear in the plot above, it appears that there was a particular problem since the rta is more than 10 times higher than the eta"
   ]
  },
  {
   "cell_type": "code",
   "execution_count": 110,
   "metadata": {},
   "outputs": [
    {
     "name": "stdout",
     "output_type": "stream",
     "text": [
      "Pearsons correlation: 0.622\n"
     ]
    }
   ],
   "source": [
    "# calculate Pearson's correlation\n",
    "corr, _ = pearsonr(etas_df['rta'][~np.isnan(etas_df['bird_flight_distance'])], \n",
    "                   etas_df['bird_flight_distance'][~np.isnan(etas_df['bird_flight_distance'])])\n",
    "print('Pearsons correlation: {}'.format(round(corr, 3)))"
   ]
  },
  {
   "cell_type": "markdown",
   "metadata": {},
   "source": [
    "> This feature has an interesting linear correlation with the target 'rta'"
   ]
  },
  {
   "cell_type": "markdown",
   "metadata": {},
   "source": [
    "### 1.2: car_type analysis"
   ]
  },
  {
   "cell_type": "code",
   "execution_count": 564,
   "metadata": {},
   "outputs": [],
   "source": [
    "feature = 'car_type'"
   ]
  },
  {
   "cell_type": "markdown",
   "metadata": {},
   "source": [
    "- Categorical feature\n",
    "- Low caridnality: 3\n",
    "- No missing values"
   ]
  },
  {
   "cell_type": "code",
   "execution_count": 565,
   "metadata": {},
   "outputs": [
    {
     "data": {
      "text/html": [
       "<div>\n",
       "<style scoped>\n",
       "    .dataframe tbody tr th:only-of-type {\n",
       "        vertical-align: middle;\n",
       "    }\n",
       "\n",
       "    .dataframe tbody tr th {\n",
       "        vertical-align: top;\n",
       "    }\n",
       "\n",
       "    .dataframe thead th {\n",
       "        text-align: right;\n",
       "    }\n",
       "</style>\n",
       "<table border=\"1\" class=\"dataframe\">\n",
       "  <thead>\n",
       "    <tr style=\"text-align: right;\">\n",
       "      <th></th>\n",
       "      <th>count</th>\n",
       "      <th>ratio(%)</th>\n",
       "    </tr>\n",
       "  </thead>\n",
       "  <tbody>\n",
       "    <tr>\n",
       "      <td>standard</td>\n",
       "      <td>28935</td>\n",
       "      <td>96.45</td>\n",
       "    </tr>\n",
       "    <tr>\n",
       "      <td>sedan</td>\n",
       "      <td>813</td>\n",
       "      <td>2.71</td>\n",
       "    </tr>\n",
       "    <tr>\n",
       "      <td>van</td>\n",
       "      <td>252</td>\n",
       "      <td>0.84</td>\n",
       "    </tr>\n",
       "  </tbody>\n",
       "</table>\n",
       "</div>"
      ],
      "text/plain": [
       "          count  ratio(%)\n",
       "standard  28935     96.45\n",
       "sedan       813      2.71\n",
       "van         252      0.84"
      ]
     },
     "execution_count": 565,
     "metadata": {},
     "output_type": "execute_result"
    }
   ],
   "source": [
    "cars_df = etas_df[feature].value_counts().to_frame(name='count')\n",
    "cars_df['ratio(%)'] = cars_df['count'] / len(etas_df) * 100\n",
    "cars_df"
   ]
  },
  {
   "cell_type": "markdown",
   "metadata": {},
   "source": [
    "- Majority of standard cars"
   ]
  },
  {
   "cell_type": "code",
   "execution_count": 566,
   "metadata": {},
   "outputs": [
    {
     "data": {
      "text/plain": [
       "<matplotlib.axes._subplots.AxesSubplot at 0x179b87390>"
      ]
     },
     "execution_count": 566,
     "metadata": {},
     "output_type": "execute_result"
    },
    {
     "data": {
      "image/png": "[encoded data removed]",
      "text/plain": [
       "<Figure size 1080x432 with 1 Axes>"
      ]
     },
     "metadata": {},
     "output_type": "display_data"
    }
   ],
   "source": [
    "plt.figure(figsize=(15,6))\n",
    "sns.boxplot(x=feature, y='rta', data=etas_df)"
   ]
  },
  {
   "cell_type": "markdown",
   "metadata": {},
   "source": [
    "> We observe a noticeable distinction of 'rta' distribution between 'van' and 'standard' car types \n",
    "\n",
    "> Which is expectable since vans are rarer than standard cars"
   ]
  },
  {
   "cell_type": "markdown",
   "metadata": {},
   "source": [
    "### 1.3:  surge analysis"
   ]
  },
  {
   "cell_type": "code",
   "execution_count": 568,
   "metadata": {},
   "outputs": [],
   "source": [
    "feature = 'surge'"
   ]
  },
  {
   "cell_type": "markdown",
   "metadata": {},
   "source": [
    "- Ordinal feature\n",
    "- Low cardinality: 10 \n",
    "- Many missing values 5967 (20%)"
   ]
  },
  {
   "cell_type": "code",
   "execution_count": 569,
   "metadata": {},
   "outputs": [
    {
     "data": {
      "text/html": [
       "<div>\n",
       "<style scoped>\n",
       "    .dataframe tbody tr th:only-of-type {\n",
       "        vertical-align: middle;\n",
       "    }\n",
       "\n",
       "    .dataframe tbody tr th {\n",
       "        vertical-align: top;\n",
       "    }\n",
       "\n",
       "    .dataframe thead th {\n",
       "        text-align: right;\n",
       "    }\n",
       "</style>\n",
       "<table border=\"1\" class=\"dataframe\">\n",
       "  <thead>\n",
       "    <tr style=\"text-align: right;\">\n",
       "      <th></th>\n",
       "      <th>count</th>\n",
       "      <th>ratio(%)</th>\n",
       "    </tr>\n",
       "  </thead>\n",
       "  <tbody>\n",
       "    <tr>\n",
       "      <td>1.0</td>\n",
       "      <td>16894</td>\n",
       "      <td>56.313333</td>\n",
       "    </tr>\n",
       "    <tr>\n",
       "      <td>1.4</td>\n",
       "      <td>1668</td>\n",
       "      <td>5.560000</td>\n",
       "    </tr>\n",
       "    <tr>\n",
       "      <td>1.2</td>\n",
       "      <td>1323</td>\n",
       "      <td>4.410000</td>\n",
       "    </tr>\n",
       "    <tr>\n",
       "      <td>1.3</td>\n",
       "      <td>847</td>\n",
       "      <td>2.823333</td>\n",
       "    </tr>\n",
       "    <tr>\n",
       "      <td>1.9</td>\n",
       "      <td>721</td>\n",
       "      <td>2.403333</td>\n",
       "    </tr>\n",
       "    <tr>\n",
       "      <td>1.6</td>\n",
       "      <td>695</td>\n",
       "      <td>2.316667</td>\n",
       "    </tr>\n",
       "    <tr>\n",
       "      <td>1.5</td>\n",
       "      <td>677</td>\n",
       "      <td>2.256667</td>\n",
       "    </tr>\n",
       "    <tr>\n",
       "      <td>1.7</td>\n",
       "      <td>674</td>\n",
       "      <td>2.246667</td>\n",
       "    </tr>\n",
       "    <tr>\n",
       "      <td>1.8</td>\n",
       "      <td>533</td>\n",
       "      <td>1.776667</td>\n",
       "    </tr>\n",
       "    <tr>\n",
       "      <td>2.1</td>\n",
       "      <td>1</td>\n",
       "      <td>0.003333</td>\n",
       "    </tr>\n",
       "  </tbody>\n",
       "</table>\n",
       "</div>"
      ],
      "text/plain": [
       "     count   ratio(%)\n",
       "1.0  16894  56.313333\n",
       "1.4   1668   5.560000\n",
       "1.2   1323   4.410000\n",
       "1.3    847   2.823333\n",
       "1.9    721   2.403333\n",
       "1.6    695   2.316667\n",
       "1.5    677   2.256667\n",
       "1.7    674   2.246667\n",
       "1.8    533   1.776667\n",
       "2.1      1   0.003333"
      ]
     },
     "execution_count": 569,
     "metadata": {},
     "output_type": "execute_result"
    }
   ],
   "source": [
    "surge_df = etas_df[feature].value_counts().to_frame(name='count')\n",
    "surge_df['ratio(%)'] = surge_df['count'] / len(etas_df) * 100\n",
    "\n",
    "surge_df"
   ]
  },
  {
   "cell_type": "markdown",
   "metadata": {},
   "source": [
    "> Here the observation with surge=2.1 is unique and can be remove as an outlier"
   ]
  },
  {
   "cell_type": "code",
   "execution_count": 570,
   "metadata": {
    "scrolled": false
   },
   "outputs": [
    {
     "data": {
      "text/plain": [
       "<matplotlib.axes._subplots.AxesSubplot at 0x179ecec50>"
      ]
     },
     "execution_count": 570,
     "metadata": {},
     "output_type": "execute_result"
    },
    {
     "data": {
      "image/png": "[encoded data removed]",
      "text/plain": [
       "<Figure size 1080x432 with 1 Axes>"
      ]
     },
     "metadata": {},
     "output_type": "display_data"
    }
   ],
   "source": [
    "plt.figure(figsize=(15,6))\n",
    "sns.boxplot(x=feature, y='rta', data=etas_df[etas_df.rta < 7000])"
   ]
  },
  {
   "cell_type": "markdown",
   "metadata": {},
   "source": [
    "> There is not much distinction between classes "
   ]
  },
  {
   "cell_type": "code",
   "execution_count": 131,
   "metadata": {},
   "outputs": [
    {
     "data": {
      "text/plain": [
       "<matplotlib.legend.Legend at 0x11d6d5710>"
      ]
     },
     "execution_count": 131,
     "metadata": {},
     "output_type": "execute_result"
    },
    {
     "data": {
      "image/png": "[encoded data removed]",
      "text/plain": [
       "<Figure size 720x576 with 1 Axes>"
      ]
     },
     "metadata": {},
     "output_type": "display_data"
    }
   ],
   "source": [
    "plt.figure(figsize=(10,8))\n",
    "sns.distplot(etas_df[etas_df[feature].isnull()].rta, label='Missing surge')\n",
    "sns.distplot(etas_df[~etas_df[feature].isnull()].rta, label='With surge')\n",
    "plt.legend()"
   ]
  },
  {
   "cell_type": "markdown",
   "metadata": {},
   "source": [
    "- The plot above shows that missing values are missing at random. Which is important to know. Missing surge value have no particular meaning and do know point a special behavior of RTA"
   ]
  },
  {
   "cell_type": "markdown",
   "metadata": {},
   "source": [
    "### 1.4: is_from_airport analysis"
   ]
  },
  {
   "cell_type": "code",
   "execution_count": 571,
   "metadata": {},
   "outputs": [],
   "source": [
    "feature = 'is_from_airport'"
   ]
  },
  {
   "cell_type": "markdown",
   "metadata": {},
   "source": [
    "- Categorical feature\n",
    "- Low cardinality: 2\n",
    "- Many missing value: 1554 (5.18 %)\t"
   ]
  },
  {
   "cell_type": "code",
   "execution_count": 572,
   "metadata": {},
   "outputs": [
    {
     "data": {
      "text/html": [
       "<div>\n",
       "<style scoped>\n",
       "    .dataframe tbody tr th:only-of-type {\n",
       "        vertical-align: middle;\n",
       "    }\n",
       "\n",
       "    .dataframe tbody tr th {\n",
       "        vertical-align: top;\n",
       "    }\n",
       "\n",
       "    .dataframe thead th {\n",
       "        text-align: right;\n",
       "    }\n",
       "</style>\n",
       "<table border=\"1\" class=\"dataframe\">\n",
       "  <thead>\n",
       "    <tr style=\"text-align: right;\">\n",
       "      <th></th>\n",
       "      <th>count_from_airports</th>\n",
       "      <th>ratio(%)</th>\n",
       "    </tr>\n",
       "  </thead>\n",
       "  <tbody>\n",
       "    <tr>\n",
       "      <td>False</td>\n",
       "      <td>27597</td>\n",
       "      <td>91.99</td>\n",
       "    </tr>\n",
       "    <tr>\n",
       "      <td>True</td>\n",
       "      <td>849</td>\n",
       "      <td>2.83</td>\n",
       "    </tr>\n",
       "  </tbody>\n",
       "</table>\n",
       "</div>"
      ],
      "text/plain": [
       "       count_from_airports  ratio(%)\n",
       "False                27597     91.99\n",
       "True                   849      2.83"
      ]
     },
     "execution_count": 572,
     "metadata": {},
     "output_type": "execute_result"
    }
   ],
   "source": [
    "from_airport = etas_df[feature].value_counts().to_frame(name='count_from_airports')\n",
    "from_airport[\"ratio(%)\"] = from_airport['count_from_airports'] / len(etas_df) * 100\n",
    "from_airport"
   ]
  },
  {
   "cell_type": "code",
   "execution_count": 573,
   "metadata": {},
   "outputs": [
    {
     "name": "stdout",
     "output_type": "stream",
     "text": [
      "Number of airports: 38 \n",
      "\n",
      "['Orly Terminal Ouest', 'CDG terminal 1', 'Roissy Terminal 2D', 'Roissy terminal 2A', 'Orly Terminal Sud', 'Roissy Terminal 2E', 'Roissy Terminal 2F', 'Aéroport de Paris - Orly', 'Terminal Ouest - Terminal Ouest - Aéroport de Paris - Orly', 'Aéroport Saint Exupéry Terminal 1', 'Terminal Ouest - Aéroport de Paris - Orly', 'Aéroport Lyon-Saint Exupéry Terminal 2', 'Roissy Terminal 2C', 'Roissy Terminal 2G', 'Terminal 2F - Aéroport de Paris - Charles-de-Gaulle', 'Terminal 2E - Aéroport de Paris - Charles-de-Gaulle', 'Terminal 1 - Aéroport de Paris - Charles-de-Gaulle', 'Roissy Terminal 3', 'Aéroport de Paris - Le Bourget', 'Terminal 2E - Terminal 2E - Aéroport de Paris - Charles-de-Gaulle', 'Orly Sud, Terminal Sud, Avenue S', 'Terminal 1 - Terminal 1 - Aéroport de Paris - Charles-de-Gaulle', 'Terminal 1 - Terminal 1 - Aéroport Lyon-Saint Exupéry', 'Terminal 2A - Terminal 2A - Aéroport de Paris - Charles-de-Gaulle', 'Terminal 2F - Terminal 2F - Aéroport de Paris - Charles-de-Gaulle', 'シャルル・ド・ゴール空港 (CDG) (Aéroport Paris-Charles de Gaulle), Route de la Commune - Terminal 2D', 'Terminal Ouest - Terminal Ouest - Terminal Ouest - Aéroport de Paris - Orly', 'Terminal 2D - Aéroport de Paris - Charles-de-Gaulle', \"Terminal 2 - Terminal 2 - Terminal 2 - Aéroport de Nice - Côte d'Azur\", 'Aéroport de Paris - Charles-de-Gaulle - Terminal 2F', 'Terminal Sud - Aéroport de Paris - Orly', 'Aéroport de Paris-Orly (ORY)', 'Terminal 2D - Roissy Terminal 2D', 'Terminal Ouest - Orly Terminal Ouest', 'Terminal Ouest - Terminal Ouest - Terminal Ouest - Terminal Ouest - Terminal Ouest - Terminal Ouest - Terminal Ouest - Aéroport de Paris - Orly', 'Aéroport Lyon-Saint Exupéry (LYS)', 'Terminal Ouest - Terminal Ouest - Terminal Ouest - Terminal Ouest - Aéroport de Paris - Orly', 'Aéroport du Bourget']\n"
     ]
    }
   ],
   "source": [
    "list_airports = list(etas_df[etas_df[feature] == True].address.unique())\n",
    "print('Number of airports: {} \\n\\n{}'.format(len(list_airports), list_airports))"
   ]
  },
  {
   "cell_type": "markdown",
   "metadata": {},
   "source": [
    "- This feature can be recovered from the address "
   ]
  },
  {
   "cell_type": "code",
   "execution_count": 574,
   "metadata": {},
   "outputs": [
    {
     "data": {
      "text/plain": [
       "<matplotlib.axes._subplots.AxesSubplot at 0x179ee5810>"
      ]
     },
     "execution_count": 574,
     "metadata": {},
     "output_type": "execute_result"
    },
    {
     "data": {
      "image/png": "[encoded data removed]",
      "text/plain": [
       "<Figure size 1080x432 with 1 Axes>"
      ]
     },
     "metadata": {},
     "output_type": "display_data"
    }
   ],
   "source": [
    "plt.figure(figsize=(15,6))\n",
    "sns.boxplot(x=feature, y='rta', data=etas_df[etas_df.rta < 7000])"
   ]
  },
  {
   "cell_type": "markdown",
   "metadata": {},
   "source": [
    "> Median rta when the call for a driver is made from an airport is lower than the one when it is not from an airport\n",
    "> This is expectable since drivers are usually nearby airports (just dropped someone or waiting for a client), and if they are not, they would probably not come to the airport"
   ]
  },
  {
   "cell_type": "markdown",
   "metadata": {},
   "source": [
    "### 1.5: Analyse the variable eta"
   ]
  },
  {
   "cell_type": "markdown",
   "metadata": {},
   "source": [
    "- Continuous feature\n",
    "- No missing data"
   ]
  },
  {
   "cell_type": "code",
   "execution_count": 575,
   "metadata": {
    "scrolled": false
   },
   "outputs": [
    {
     "data": {
      "text/plain": [
       "<matplotlib.legend.Legend at 0x153620810>"
      ]
     },
     "execution_count": 575,
     "metadata": {},
     "output_type": "execute_result"
    },
    {
     "data": {
      "image/png": "[encoded data removed]",
      "text/plain": [
       "<Figure size 576x432 with 1 Axes>"
      ]
     },
     "metadata": {},
     "output_type": "display_data"
    }
   ],
   "source": [
    "plt.figure(figsize=(8,6))\n",
    "sns.distplot(np.log(np.maximum(etas_df['rta'], 1)), label='rta (log)')\n",
    "sns.distplot(np.log(np.maximum(etas_df['eta'], 1)), label='eta (log)')\n",
    "plt.legend()"
   ]
  },
  {
   "cell_type": "markdown",
   "metadata": {},
   "source": [
    "- No anomaly detected here between ETA and RTA"
   ]
  },
  {
   "cell_type": "code",
   "execution_count": 576,
   "metadata": {},
   "outputs": [
    {
     "name": "stdout",
     "output_type": "stream",
     "text": [
      "Pearsons correlation: 0.719\n"
     ]
    }
   ],
   "source": [
    "# calculate Pearson's correlation\n",
    "corr, _ = pearsonr(etas_df['rta'], \n",
    "                   etas_df['eta'])\n",
    "print('Pearsons correlation: {}'.format(round(corr, 3)))"
   ]
  },
  {
   "cell_type": "markdown",
   "metadata": {},
   "source": [
    "- High linear correlation between eta and rta"
   ]
  },
  {
   "cell_type": "code",
   "execution_count": 577,
   "metadata": {},
   "outputs": [
    {
     "name": "stdout",
     "output_type": "stream",
     "text": [
      "In average, ETA represent an error of 115.89 (seconds ?) compared to RTA\n"
     ]
    }
   ],
   "source": [
    "print('In average, ETA represent an error of {} (seconds ?) compared to RTA'.format(round(mean_absolute_error(etas_df['rta'],\n",
    "                                                                                                 etas_df['eta']), 2)))"
   ]
  },
  {
   "cell_type": "markdown",
   "metadata": {},
   "source": [
    "- This value is biased by outliers with very high values"
   ]
  },
  {
   "cell_type": "code",
   "execution_count": 578,
   "metadata": {},
   "outputs": [
    {
     "data": {
      "text/plain": [
       "<matplotlib.legend.Legend at 0x17aa1ea10>"
      ]
     },
     "execution_count": 578,
     "metadata": {},
     "output_type": "execute_result"
    },
    {
     "data": {
      "image/png": "[encoded data removed]",
      "text/plain": [
       "<Figure size 576x432 with 1 Axes>"
      ]
     },
     "metadata": {},
     "output_type": "display_data"
    }
   ],
   "source": [
    "diff_eta_rta = etas_df.eta - etas_df.rta\n",
    "plt.figure(figsize=(8,6))\n",
    "sns.distplot(diff_eta_rta, label='Error between ETA and RTA')\n",
    "plt.legend()\n",
    "#plt.title('Target distribution', fontsize=20)"
   ]
  },
  {
   "cell_type": "markdown",
   "metadata": {},
   "source": [
    "- It is reassuring to observe a gaussian centered around 0.\n",
    "- However we observe that is some cases the ETA is way lower than the RTA"
   ]
  },
  {
   "cell_type": "code",
   "execution_count": 580,
   "metadata": {},
   "outputs": [
    {
     "data": {
      "text/plain": [
       "<matplotlib.legend.Legend at 0x17ae99b50>"
      ]
     },
     "execution_count": 580,
     "metadata": {},
     "output_type": "execute_result"
    },
    {
     "data": {
      "image/png": "[encoded data removed]",
      "text/plain": [
       "<Figure size 720x576 with 1 Axes>"
      ]
     },
     "metadata": {},
     "output_type": "display_data"
    }
   ],
   "source": [
    "plt.figure(figsize=(10,8))\n",
    "plt.scatter(etas_df['rta'], etas_df['eta'])\n",
    "plt.xlabel('rta', fontsize=13)\n",
    "plt.ylabel('eta', fontsize=13)\n",
    "plt.plot([0, 1, 3000], [0, 1, 3000], c='r', label='y = x')\n",
    "plt.legend()"
   ]
  },
  {
   "cell_type": "markdown",
   "metadata": {},
   "source": [
    "> The dot at the bottom right seems to be an outlier. ETA is very low and RTA is very high (same dot observe at previous analysis)"
   ]
  },
  {
   "cell_type": "code",
   "execution_count": 582,
   "metadata": {},
   "outputs": [
    {
     "data": {
      "text/plain": [
       "<matplotlib.legend.Legend at 0x17b1ca150>"
      ]
     },
     "execution_count": 582,
     "metadata": {},
     "output_type": "execute_result"
    },
    {
     "data": {
      "image/png": "[encoded data removed]",
      "text/plain": [
       "<Figure size 576x432 with 1 Axes>"
      ]
     },
     "metadata": {},
     "output_type": "display_data"
    }
   ],
   "source": [
    "# When removing this dot\n",
    "\n",
    "diff_eta_rta = df_temp.eta - df_temp.rta\n",
    "plt.figure(figsize=(8,6))\n",
    "sns.distplot(diff_eta_rta, label='Error between ETA and RTA')\n",
    "plt.legend()\n",
    "#plt.title('Target distribution', fontsize=20)"
   ]
  },
  {
   "cell_type": "markdown",
   "metadata": {},
   "source": [
    "## 2. Data cleaning\n",
    "In this section, you have to handle missing data and outliers."
   ]
  },
  {
   "cell_type": "code",
   "execution_count": 583,
   "metadata": {},
   "outputs": [],
   "source": [
    "clean_df = etas_df.copy()"
   ]
  },
  {
   "cell_type": "markdown",
   "metadata": {},
   "source": [
    "### Missing values"
   ]
  },
  {
   "cell_type": "markdown",
   "metadata": {},
   "source": [
    "**is_from_airport**"
   ]
  },
  {
   "cell_type": "code",
   "execution_count": 584,
   "metadata": {},
   "outputs": [],
   "source": [
    "clean_df['new_is_from_airport'] = clean_df.address.isin(list_airports)"
   ]
  },
  {
   "cell_type": "markdown",
   "metadata": {},
   "source": [
    "> If more time, it would have been more careful to check if the word airport (or others) are in address, other airports or other names might exist"
   ]
  },
  {
   "cell_type": "markdown",
   "metadata": {},
   "source": [
    "**bird_flight_distance**"
   ]
  },
  {
   "cell_type": "code",
   "execution_count": 585,
   "metadata": {},
   "outputs": [
    {
     "data": {
      "text/html": [
       "<div>\n",
       "<style scoped>\n",
       "    .dataframe tbody tr th:only-of-type {\n",
       "        vertical-align: middle;\n",
       "    }\n",
       "\n",
       "    .dataframe tbody tr th {\n",
       "        vertical-align: top;\n",
       "    }\n",
       "\n",
       "    .dataframe thead th {\n",
       "        text-align: right;\n",
       "    }\n",
       "</style>\n",
       "<table border=\"1\" class=\"dataframe\">\n",
       "  <thead>\n",
       "    <tr style=\"text-align: right;\">\n",
       "      <th></th>\n",
       "      <th>command_date</th>\n",
       "      <th>bird_flight_distance</th>\n",
       "      <th>car_type</th>\n",
       "      <th>surge</th>\n",
       "      <th>address</th>\n",
       "      <th>is_from_airport</th>\n",
       "      <th>eta</th>\n",
       "      <th>rta</th>\n",
       "      <th>new_is_from_airport</th>\n",
       "    </tr>\n",
       "  </thead>\n",
       "  <tbody>\n",
       "    <tr>\n",
       "      <td>5082</td>\n",
       "      <td>2018-01-16 22:57:00+00:00</td>\n",
       "      <td>NaN</td>\n",
       "      <td>standard</td>\n",
       "      <td>1.0</td>\n",
       "      <td>26 Rue François 1er</td>\n",
       "      <td>False</td>\n",
       "      <td>0</td>\n",
       "      <td>0</td>\n",
       "      <td>False</td>\n",
       "    </tr>\n",
       "    <tr>\n",
       "      <td>19144</td>\n",
       "      <td>2018-01-11 17:09:29.059000+00:00</td>\n",
       "      <td>NaN</td>\n",
       "      <td>standard</td>\n",
       "      <td>1.0</td>\n",
       "      <td>3 Rue Aristide Briand</td>\n",
       "      <td>False</td>\n",
       "      <td>237</td>\n",
       "      <td>201</td>\n",
       "      <td>False</td>\n",
       "    </tr>\n",
       "    <tr>\n",
       "      <td>23239</td>\n",
       "      <td>2018-01-10 18:27:00+00:00</td>\n",
       "      <td>NaN</td>\n",
       "      <td>standard</td>\n",
       "      <td>1.0</td>\n",
       "      <td>82 Rue Henry Farman</td>\n",
       "      <td>False</td>\n",
       "      <td>0</td>\n",
       "      <td>0</td>\n",
       "      <td>False</td>\n",
       "    </tr>\n",
       "    <tr>\n",
       "      <td>26366</td>\n",
       "      <td>2018-01-14 12:59:00+00:00</td>\n",
       "      <td>NaN</td>\n",
       "      <td>standard</td>\n",
       "      <td>1.0</td>\n",
       "      <td>Aéroport de Paris - Orly</td>\n",
       "      <td>True</td>\n",
       "      <td>0</td>\n",
       "      <td>0</td>\n",
       "      <td>True</td>\n",
       "    </tr>\n",
       "    <tr>\n",
       "      <td>29678</td>\n",
       "      <td>2018-01-16 22:57:00+00:00</td>\n",
       "      <td>NaN</td>\n",
       "      <td>standard</td>\n",
       "      <td>1.0</td>\n",
       "      <td>26 Rue François 1er</td>\n",
       "      <td>False</td>\n",
       "      <td>0</td>\n",
       "      <td>0</td>\n",
       "      <td>False</td>\n",
       "    </tr>\n",
       "  </tbody>\n",
       "</table>\n",
       "</div>"
      ],
      "text/plain": [
       "                           command_date  bird_flight_distance  car_type  \\\n",
       "5082          2018-01-16 22:57:00+00:00                   NaN  standard   \n",
       "19144  2018-01-11 17:09:29.059000+00:00                   NaN  standard   \n",
       "23239         2018-01-10 18:27:00+00:00                   NaN  standard   \n",
       "26366         2018-01-14 12:59:00+00:00                   NaN  standard   \n",
       "29678         2018-01-16 22:57:00+00:00                   NaN  standard   \n",
       "\n",
       "       surge                   address is_from_airport  eta  rta  \\\n",
       "5082     1.0       26 Rue François 1er           False    0    0   \n",
       "19144    1.0     3 Rue Aristide Briand           False  237  201   \n",
       "23239    1.0       82 Rue Henry Farman           False    0    0   \n",
       "26366    1.0  Aéroport de Paris - Orly            True    0    0   \n",
       "29678    1.0       26 Rue François 1er           False    0    0   \n",
       "\n",
       "       new_is_from_airport  \n",
       "5082                 False  \n",
       "19144                False  \n",
       "23239                False  \n",
       "26366                 True  \n",
       "29678                False  "
      ]
     },
     "execution_count": 585,
     "metadata": {},
     "output_type": "execute_result"
    }
   ],
   "source": [
    "clean_df[clean_df['bird_flight_distance'].isnull()]"
   ]
  },
  {
   "cell_type": "markdown",
   "metadata": {},
   "source": [
    "> Concerning the rows for which rta = 0, it can only mean that bird_flight_distance=0 or a bug happened \n",
    "\n",
    "> For the fifth row with rta != 0, I can take the average over the rows with address '3 Rue Aristide Briand', or take bird_flight_distance of the one with the closest rta. But here since it is only one row  and I will not spend much time on it, I will just remove it."
   ]
  },
  {
   "cell_type": "code",
   "execution_count": 586,
   "metadata": {},
   "outputs": [],
   "source": [
    "clean_df.drop(19144, axis=0, inplace=True)"
   ]
  },
  {
   "cell_type": "code",
   "execution_count": 587,
   "metadata": {},
   "outputs": [],
   "source": [
    "clean_df.fillna(value={'bird_flight_distance': 0}, inplace=True)"
   ]
  },
  {
   "cell_type": "markdown",
   "metadata": {},
   "source": [
    "**surge**"
   ]
  },
  {
   "cell_type": "markdown",
   "metadata": {},
   "source": [
    "- Here I can replace the missing values by 1 (the most frequent value)\n",
    "- I can also add a column with 1 or 0 indicating if surge was missing in first place or not"
   ]
  },
  {
   "cell_type": "code",
   "execution_count": 588,
   "metadata": {},
   "outputs": [],
   "source": [
    "# New indicatrice column\n",
    "clean_df['surge_was_missing'] = clean_df['surge'].isnull().astype(int)\n",
    "clean_df.fillna(value={'surge': 1}, inplace=True)"
   ]
  },
  {
   "cell_type": "markdown",
   "metadata": {},
   "source": [
    "### Outliers "
   ]
  },
  {
   "cell_type": "markdown",
   "metadata": {},
   "source": [
    "- Concerning **Surge** I am going to remove the only row containig a value of 2.1 "
   ]
  },
  {
   "cell_type": "code",
   "execution_count": 589,
   "metadata": {},
   "outputs": [
    {
     "name": "stdout",
     "output_type": "stream",
     "text": [
      "before: (29999, 10)\n",
      "after : (29998, 10)\n"
     ]
    }
   ],
   "source": [
    "print('before: {}'.format(clean_df.shape))\n",
    "clean_df = clean_df[clean_df.surge != 2.1]\n",
    "print('after : {}'.format(clean_df.shape))"
   ]
  },
  {
   "cell_type": "markdown",
   "metadata": {},
   "source": [
    "- Concerning **rta**, its distribution looks like a log normale\n",
    "- No pics observed out of the normal \n",
    "- I will only remove the only dot that i spoke about previously"
   ]
  },
  {
   "cell_type": "code",
   "execution_count": 590,
   "metadata": {},
   "outputs": [
    {
     "data": {
      "text/plain": [
       "<matplotlib.legend.Legend at 0x17b3502d0>"
      ]
     },
     "execution_count": 590,
     "metadata": {},
     "output_type": "execute_result"
    },
    {
     "data": {
      "image/png": "[encoded data removed]",
      "text/plain": [
       "<Figure size 576x432 with 1 Axes>"
      ]
     },
     "metadata": {},
     "output_type": "display_data"
    }
   ],
   "source": [
    "plt.figure(figsize=(8,6))\n",
    "sns.distplot(np.log(np.maximum(clean_df['rta'], 1)), label='rta (log)')\n",
    "plt.legend()"
   ]
  },
  {
   "cell_type": "code",
   "execution_count": 591,
   "metadata": {},
   "outputs": [
    {
     "name": "stdout",
     "output_type": "stream",
     "text": [
      "before: (29998, 10)\n",
      "after : (29997, 10)\n"
     ]
    }
   ],
   "source": [
    "print('before: {}'.format(clean_df.shape))\n",
    "clean_df = clean_df[clean_df.rta < 7000]\n",
    "print('after : {}'.format(clean_df.shape))"
   ]
  },
  {
   "cell_type": "markdown",
   "metadata": {},
   "source": [
    "- Concerning **ETA**, same as rta"
   ]
  },
  {
   "cell_type": "code",
   "execution_count": 596,
   "metadata": {},
   "outputs": [
    {
     "data": {
      "text/plain": [
       "<matplotlib.legend.Legend at 0x17b787cd0>"
      ]
     },
     "execution_count": 596,
     "metadata": {},
     "output_type": "execute_result"
    },
    {
     "data": {
      "image/png": "[encoded data removed]",
      "text/plain": [
       "<Figure size 576x432 with 1 Axes>"
      ]
     },
     "metadata": {},
     "output_type": "display_data"
    }
   ],
   "source": [
    "plt.figure(figsize=(8,6))\n",
    "sns.distplot(clean_df['eta'], label='ETA')\n",
    "plt.legend()"
   ]
  },
  {
   "cell_type": "markdown",
   "metadata": {},
   "source": [
    "- Distribution: log-normal. Small pic at ETA = 0\n",
    "- Having an ETA of 0 seems very weird. Since I don't know how they were made I will keep them. \n",
    "- Nothing seems weird in rows for which ETA = 0. Additional reason to not remove these observations (even if they would certainly improve the model performance)"
   ]
  },
  {
   "cell_type": "code",
   "execution_count": 595,
   "metadata": {},
   "outputs": [
    {
     "data": {
      "text/html": [
       "<div>\n",
       "<style scoped>\n",
       "    .dataframe tbody tr th:only-of-type {\n",
       "        vertical-align: middle;\n",
       "    }\n",
       "\n",
       "    .dataframe tbody tr th {\n",
       "        vertical-align: top;\n",
       "    }\n",
       "\n",
       "    .dataframe thead th {\n",
       "        text-align: right;\n",
       "    }\n",
       "</style>\n",
       "<table border=\"1\" class=\"dataframe\">\n",
       "  <thead>\n",
       "    <tr style=\"text-align: right;\">\n",
       "      <th></th>\n",
       "      <th>command_date</th>\n",
       "      <th>bird_flight_distance</th>\n",
       "      <th>car_type</th>\n",
       "      <th>surge</th>\n",
       "      <th>address</th>\n",
       "      <th>is_from_airport</th>\n",
       "      <th>eta</th>\n",
       "      <th>rta</th>\n",
       "      <th>new_is_from_airport</th>\n",
       "      <th>surge_was_missing</th>\n",
       "    </tr>\n",
       "  </thead>\n",
       "  <tbody>\n",
       "    <tr>\n",
       "      <td>1264</td>\n",
       "      <td>2018-01-10 16:55:24.746000+00:00</td>\n",
       "      <td>17.284295</td>\n",
       "      <td>standard</td>\n",
       "      <td>1.0</td>\n",
       "      <td>Gare de l'Est</td>\n",
       "      <td>False</td>\n",
       "      <td>0</td>\n",
       "      <td>6</td>\n",
       "      <td>False</td>\n",
       "      <td>0</td>\n",
       "    </tr>\n",
       "    <tr>\n",
       "      <td>1540</td>\n",
       "      <td>2018-01-09 23:45:25.784000+00:00</td>\n",
       "      <td>11.478979</td>\n",
       "      <td>standard</td>\n",
       "      <td>1.5</td>\n",
       "      <td>47 Rue De Ponthieu</td>\n",
       "      <td>False</td>\n",
       "      <td>0</td>\n",
       "      <td>37</td>\n",
       "      <td>False</td>\n",
       "      <td>0</td>\n",
       "    </tr>\n",
       "    <tr>\n",
       "      <td>2046</td>\n",
       "      <td>2018-01-10 01:11:09.027000+00:00</td>\n",
       "      <td>17.303488</td>\n",
       "      <td>standard</td>\n",
       "      <td>1.0</td>\n",
       "      <td>29 Rue Chauvelot</td>\n",
       "      <td>False</td>\n",
       "      <td>0</td>\n",
       "      <td>24</td>\n",
       "      <td>False</td>\n",
       "      <td>0</td>\n",
       "    </tr>\n",
       "    <tr>\n",
       "      <td>3843</td>\n",
       "      <td>2018-01-12 14:33:48.518000+00:00</td>\n",
       "      <td>12.058898</td>\n",
       "      <td>standard</td>\n",
       "      <td>1.0</td>\n",
       "      <td>Roissy Terminal 2F</td>\n",
       "      <td>True</td>\n",
       "      <td>0</td>\n",
       "      <td>347</td>\n",
       "      <td>True</td>\n",
       "      <td>0</td>\n",
       "    </tr>\n",
       "    <tr>\n",
       "      <td>3931</td>\n",
       "      <td>2018-01-13 22:34:47.614000+00:00</td>\n",
       "      <td>2.165196</td>\n",
       "      <td>standard</td>\n",
       "      <td>1.0</td>\n",
       "      <td>CDG terminal 1</td>\n",
       "      <td>True</td>\n",
       "      <td>0</td>\n",
       "      <td>12</td>\n",
       "      <td>True</td>\n",
       "      <td>0</td>\n",
       "    </tr>\n",
       "    <tr>\n",
       "      <td>5082</td>\n",
       "      <td>2018-01-16 22:57:00+00:00</td>\n",
       "      <td>0.000000</td>\n",
       "      <td>standard</td>\n",
       "      <td>1.0</td>\n",
       "      <td>26 Rue François 1er</td>\n",
       "      <td>False</td>\n",
       "      <td>0</td>\n",
       "      <td>0</td>\n",
       "      <td>False</td>\n",
       "      <td>0</td>\n",
       "    </tr>\n",
       "    <tr>\n",
       "      <td>5176</td>\n",
       "      <td>2018-01-10 20:06:56.647000+00:00</td>\n",
       "      <td>2.572038</td>\n",
       "      <td>standard</td>\n",
       "      <td>1.0</td>\n",
       "      <td>Roissy Terminal 2G</td>\n",
       "      <td>True</td>\n",
       "      <td>0</td>\n",
       "      <td>315</td>\n",
       "      <td>True</td>\n",
       "      <td>0</td>\n",
       "    </tr>\n",
       "    <tr>\n",
       "      <td>6048</td>\n",
       "      <td>2018-01-11 21:44:21.963000+00:00</td>\n",
       "      <td>1.605894</td>\n",
       "      <td>standard</td>\n",
       "      <td>1.0</td>\n",
       "      <td>Roissy Terminal 2F</td>\n",
       "      <td>True</td>\n",
       "      <td>0</td>\n",
       "      <td>52</td>\n",
       "      <td>True</td>\n",
       "      <td>0</td>\n",
       "    </tr>\n",
       "    <tr>\n",
       "      <td>6291</td>\n",
       "      <td>2018-01-12 07:59:25.793000+00:00</td>\n",
       "      <td>0.146930</td>\n",
       "      <td>standard</td>\n",
       "      <td>1.0</td>\n",
       "      <td>Roissy Terminal 2E</td>\n",
       "      <td>True</td>\n",
       "      <td>0</td>\n",
       "      <td>203</td>\n",
       "      <td>True</td>\n",
       "      <td>0</td>\n",
       "    </tr>\n",
       "    <tr>\n",
       "      <td>6389</td>\n",
       "      <td>2018-01-12 04:59:16.963000+00:00</td>\n",
       "      <td>0.146930</td>\n",
       "      <td>standard</td>\n",
       "      <td>1.0</td>\n",
       "      <td>Roissy Terminal 2E</td>\n",
       "      <td>True</td>\n",
       "      <td>0</td>\n",
       "      <td>339</td>\n",
       "      <td>True</td>\n",
       "      <td>0</td>\n",
       "    </tr>\n",
       "    <tr>\n",
       "      <td>6735</td>\n",
       "      <td>2018-01-09 17:51:26.444000+00:00</td>\n",
       "      <td>1.760172</td>\n",
       "      <td>standard</td>\n",
       "      <td>1.0</td>\n",
       "      <td>25 Rue Georges Méliès</td>\n",
       "      <td>False</td>\n",
       "      <td>0</td>\n",
       "      <td>142</td>\n",
       "      <td>False</td>\n",
       "      <td>1</td>\n",
       "    </tr>\n",
       "    <tr>\n",
       "      <td>7761</td>\n",
       "      <td>2018-01-10 13:37:07.926000+00:00</td>\n",
       "      <td>0.146930</td>\n",
       "      <td>standard</td>\n",
       "      <td>1.0</td>\n",
       "      <td>Roissy Terminal 2E</td>\n",
       "      <td>True</td>\n",
       "      <td>0</td>\n",
       "      <td>300</td>\n",
       "      <td>True</td>\n",
       "      <td>0</td>\n",
       "    </tr>\n",
       "    <tr>\n",
       "      <td>7849</td>\n",
       "      <td>2018-01-13 19:51:13.507000+00:00</td>\n",
       "      <td>0.892797</td>\n",
       "      <td>standard</td>\n",
       "      <td>1.0</td>\n",
       "      <td>Roissy Terminal 2F</td>\n",
       "      <td>True</td>\n",
       "      <td>0</td>\n",
       "      <td>559</td>\n",
       "      <td>True</td>\n",
       "      <td>0</td>\n",
       "    </tr>\n",
       "    <tr>\n",
       "      <td>8396</td>\n",
       "      <td>2018-01-11 20:59:23.994000+00:00</td>\n",
       "      <td>18.376565</td>\n",
       "      <td>standard</td>\n",
       "      <td>1.0</td>\n",
       "      <td>de zww SW ssw, 4 Boulevard Noël Marc</td>\n",
       "      <td>False</td>\n",
       "      <td>0</td>\n",
       "      <td>8</td>\n",
       "      <td>False</td>\n",
       "      <td>0</td>\n",
       "    </tr>\n",
       "    <tr>\n",
       "      <td>9017</td>\n",
       "      <td>2018-01-14 01:35:30.041000+00:00</td>\n",
       "      <td>6.404528</td>\n",
       "      <td>standard</td>\n",
       "      <td>1.4</td>\n",
       "      <td>41 Rue Galilée</td>\n",
       "      <td>False</td>\n",
       "      <td>0</td>\n",
       "      <td>12</td>\n",
       "      <td>False</td>\n",
       "      <td>0</td>\n",
       "    </tr>\n",
       "    <tr>\n",
       "      <td>9900</td>\n",
       "      <td>2018-01-15 23:43:38.416000+00:00</td>\n",
       "      <td>7.894558</td>\n",
       "      <td>standard</td>\n",
       "      <td>1.9</td>\n",
       "      <td>47 Rue De Ponthieu</td>\n",
       "      <td>False</td>\n",
       "      <td>0</td>\n",
       "      <td>4</td>\n",
       "      <td>False</td>\n",
       "      <td>0</td>\n",
       "    </tr>\n",
       "    <tr>\n",
       "      <td>11623</td>\n",
       "      <td>2018-01-08 23:06:47.944000+00:00</td>\n",
       "      <td>0.368252</td>\n",
       "      <td>standard</td>\n",
       "      <td>1.0</td>\n",
       "      <td>Orly Terminal Sud</td>\n",
       "      <td>NaN</td>\n",
       "      <td>0</td>\n",
       "      <td>255</td>\n",
       "      <td>True</td>\n",
       "      <td>0</td>\n",
       "    </tr>\n",
       "    <tr>\n",
       "      <td>13312</td>\n",
       "      <td>2018-01-08 11:19:27.605000+00:00</td>\n",
       "      <td>14.584913</td>\n",
       "      <td>standard</td>\n",
       "      <td>1.0</td>\n",
       "      <td>27 Avenue George V</td>\n",
       "      <td>False</td>\n",
       "      <td>0</td>\n",
       "      <td>32</td>\n",
       "      <td>False</td>\n",
       "      <td>1</td>\n",
       "    </tr>\n",
       "    <tr>\n",
       "      <td>13637</td>\n",
       "      <td>2018-01-13 23:05:08.301000+00:00</td>\n",
       "      <td>0.368252</td>\n",
       "      <td>standard</td>\n",
       "      <td>1.0</td>\n",
       "      <td>Orly Terminal Sud</td>\n",
       "      <td>True</td>\n",
       "      <td>0</td>\n",
       "      <td>9</td>\n",
       "      <td>True</td>\n",
       "      <td>0</td>\n",
       "    </tr>\n",
       "    <tr>\n",
       "      <td>13969</td>\n",
       "      <td>2018-01-16 23:48:19.187000+00:00</td>\n",
       "      <td>6.607991</td>\n",
       "      <td>standard</td>\n",
       "      <td>1.9</td>\n",
       "      <td>47 Rue de Ponthieu</td>\n",
       "      <td>False</td>\n",
       "      <td>0</td>\n",
       "      <td>8</td>\n",
       "      <td>False</td>\n",
       "      <td>0</td>\n",
       "    </tr>\n",
       "    <tr>\n",
       "      <td>14738</td>\n",
       "      <td>2018-01-15 23:45:38.477000+00:00</td>\n",
       "      <td>3.583105</td>\n",
       "      <td>standard</td>\n",
       "      <td>1.9</td>\n",
       "      <td>47 Rue De Ponthieu</td>\n",
       "      <td>False</td>\n",
       "      <td>0</td>\n",
       "      <td>5</td>\n",
       "      <td>False</td>\n",
       "      <td>0</td>\n",
       "    </tr>\n",
       "    <tr>\n",
       "      <td>15430</td>\n",
       "      <td>2018-01-13 07:25:26.786000+00:00</td>\n",
       "      <td>16.490303</td>\n",
       "      <td>sedan</td>\n",
       "      <td>1.0</td>\n",
       "      <td>20 Rue du Tintoret</td>\n",
       "      <td>False</td>\n",
       "      <td>0</td>\n",
       "      <td>9</td>\n",
       "      <td>False</td>\n",
       "      <td>0</td>\n",
       "    </tr>\n",
       "    <tr>\n",
       "      <td>15489</td>\n",
       "      <td>2018-01-09 23:03:53.874000+00:00</td>\n",
       "      <td>1.155365</td>\n",
       "      <td>standard</td>\n",
       "      <td>1.0</td>\n",
       "      <td>Orly Terminal Sud</td>\n",
       "      <td>True</td>\n",
       "      <td>0</td>\n",
       "      <td>263</td>\n",
       "      <td>True</td>\n",
       "      <td>0</td>\n",
       "    </tr>\n",
       "    <tr>\n",
       "      <td>15588</td>\n",
       "      <td>2018-01-13 23:44:41.423000+00:00</td>\n",
       "      <td>4.033386</td>\n",
       "      <td>standard</td>\n",
       "      <td>1.9</td>\n",
       "      <td>47 Rue de Ponthieu</td>\n",
       "      <td>False</td>\n",
       "      <td>0</td>\n",
       "      <td>16</td>\n",
       "      <td>False</td>\n",
       "      <td>0</td>\n",
       "    </tr>\n",
       "    <tr>\n",
       "      <td>16376</td>\n",
       "      <td>2018-01-15 22:09:17.308000+00:00</td>\n",
       "      <td>1.927226</td>\n",
       "      <td>standard</td>\n",
       "      <td>1.0</td>\n",
       "      <td>Roissy Terminal 2F</td>\n",
       "      <td>True</td>\n",
       "      <td>0</td>\n",
       "      <td>342</td>\n",
       "      <td>True</td>\n",
       "      <td>0</td>\n",
       "    </tr>\n",
       "    <tr>\n",
       "      <td>17692</td>\n",
       "      <td>2018-01-12 12:00:26.598000+00:00</td>\n",
       "      <td>60.839821</td>\n",
       "      <td>standard</td>\n",
       "      <td>1.0</td>\n",
       "      <td>10 Avenue Hoche</td>\n",
       "      <td>False</td>\n",
       "      <td>0</td>\n",
       "      <td>59</td>\n",
       "      <td>False</td>\n",
       "      <td>0</td>\n",
       "    </tr>\n",
       "    <tr>\n",
       "      <td>19062</td>\n",
       "      <td>2018-01-15 23:45:38.480000+00:00</td>\n",
       "      <td>25.666957</td>\n",
       "      <td>standard</td>\n",
       "      <td>1.9</td>\n",
       "      <td>47 Rue de Ponthieu</td>\n",
       "      <td>False</td>\n",
       "      <td>0</td>\n",
       "      <td>14</td>\n",
       "      <td>False</td>\n",
       "      <td>0</td>\n",
       "    </tr>\n",
       "    <tr>\n",
       "      <td>19454</td>\n",
       "      <td>2018-01-12 23:45:03.502000+00:00</td>\n",
       "      <td>3.495822</td>\n",
       "      <td>standard</td>\n",
       "      <td>1.6</td>\n",
       "      <td>47 Rue de Ponthieu</td>\n",
       "      <td>False</td>\n",
       "      <td>0</td>\n",
       "      <td>11</td>\n",
       "      <td>False</td>\n",
       "      <td>0</td>\n",
       "    </tr>\n",
       "    <tr>\n",
       "      <td>19982</td>\n",
       "      <td>2018-01-09 21:00:14.826000+00:00</td>\n",
       "      <td>28.804417</td>\n",
       "      <td>standard</td>\n",
       "      <td>1.0</td>\n",
       "      <td>3-5 Place des Marseillais</td>\n",
       "      <td>False</td>\n",
       "      <td>0</td>\n",
       "      <td>30</td>\n",
       "      <td>False</td>\n",
       "      <td>0</td>\n",
       "    </tr>\n",
       "    <tr>\n",
       "      <td>20996</td>\n",
       "      <td>2018-01-16 09:22:31.037000+00:00</td>\n",
       "      <td>23.188542</td>\n",
       "      <td>standard</td>\n",
       "      <td>1.0</td>\n",
       "      <td>Roissy Terminal 2E</td>\n",
       "      <td>True</td>\n",
       "      <td>0</td>\n",
       "      <td>11</td>\n",
       "      <td>True</td>\n",
       "      <td>0</td>\n",
       "    </tr>\n",
       "    <tr>\n",
       "      <td>21024</td>\n",
       "      <td>2018-01-13 21:09:27.454000+00:00</td>\n",
       "      <td>2.317075</td>\n",
       "      <td>standard</td>\n",
       "      <td>1.0</td>\n",
       "      <td>19 Avenue George V</td>\n",
       "      <td>False</td>\n",
       "      <td>0</td>\n",
       "      <td>167</td>\n",
       "      <td>False</td>\n",
       "      <td>0</td>\n",
       "    </tr>\n",
       "    <tr>\n",
       "      <td>21249</td>\n",
       "      <td>2018-01-08 21:55:50.461000+00:00</td>\n",
       "      <td>1.681083</td>\n",
       "      <td>standard</td>\n",
       "      <td>1.0</td>\n",
       "      <td>Orly Terminal Sud</td>\n",
       "      <td>True</td>\n",
       "      <td>0</td>\n",
       "      <td>300</td>\n",
       "      <td>True</td>\n",
       "      <td>0</td>\n",
       "    </tr>\n",
       "    <tr>\n",
       "      <td>21390</td>\n",
       "      <td>2018-01-12 06:34:41.666000+00:00</td>\n",
       "      <td>7.125885</td>\n",
       "      <td>standard</td>\n",
       "      <td>1.0</td>\n",
       "      <td>126 Rue Emile Beaufils</td>\n",
       "      <td>False</td>\n",
       "      <td>0</td>\n",
       "      <td>48</td>\n",
       "      <td>False</td>\n",
       "      <td>0</td>\n",
       "    </tr>\n",
       "    <tr>\n",
       "      <td>21770</td>\n",
       "      <td>2018-01-09 22:27:13.983000+00:00</td>\n",
       "      <td>15.195777</td>\n",
       "      <td>standard</td>\n",
       "      <td>1.0</td>\n",
       "      <td>Roissy Terminal 2F</td>\n",
       "      <td>True</td>\n",
       "      <td>0</td>\n",
       "      <td>358</td>\n",
       "      <td>True</td>\n",
       "      <td>0</td>\n",
       "    </tr>\n",
       "    <tr>\n",
       "      <td>21910</td>\n",
       "      <td>2018-01-12 19:57:28.119000+00:00</td>\n",
       "      <td>0.728388</td>\n",
       "      <td>standard</td>\n",
       "      <td>1.0</td>\n",
       "      <td>Roissy Terminal 2E</td>\n",
       "      <td>True</td>\n",
       "      <td>0</td>\n",
       "      <td>376</td>\n",
       "      <td>True</td>\n",
       "      <td>0</td>\n",
       "    </tr>\n",
       "    <tr>\n",
       "      <td>22416</td>\n",
       "      <td>2018-01-17 08:42:48.547000+00:00</td>\n",
       "      <td>72.314824</td>\n",
       "      <td>standard</td>\n",
       "      <td>1.0</td>\n",
       "      <td>228 Quai de Stalingrad</td>\n",
       "      <td>False</td>\n",
       "      <td>0</td>\n",
       "      <td>103</td>\n",
       "      <td>False</td>\n",
       "      <td>1</td>\n",
       "    </tr>\n",
       "    <tr>\n",
       "      <td>22665</td>\n",
       "      <td>2018-01-15 13:27:12.517000+00:00</td>\n",
       "      <td>0.731488</td>\n",
       "      <td>standard</td>\n",
       "      <td>1.0</td>\n",
       "      <td>Orly Terminal Sud</td>\n",
       "      <td>True</td>\n",
       "      <td>0</td>\n",
       "      <td>375</td>\n",
       "      <td>True</td>\n",
       "      <td>0</td>\n",
       "    </tr>\n",
       "    <tr>\n",
       "      <td>23146</td>\n",
       "      <td>2018-01-15 23:43:43.966000+00:00</td>\n",
       "      <td>3.294032</td>\n",
       "      <td>standard</td>\n",
       "      <td>1.0</td>\n",
       "      <td>27 Rue de Courcelles</td>\n",
       "      <td>NaN</td>\n",
       "      <td>0</td>\n",
       "      <td>24</td>\n",
       "      <td>False</td>\n",
       "      <td>1</td>\n",
       "    </tr>\n",
       "    <tr>\n",
       "      <td>23239</td>\n",
       "      <td>2018-01-10 18:27:00+00:00</td>\n",
       "      <td>0.000000</td>\n",
       "      <td>standard</td>\n",
       "      <td>1.0</td>\n",
       "      <td>82 Rue Henry Farman</td>\n",
       "      <td>False</td>\n",
       "      <td>0</td>\n",
       "      <td>0</td>\n",
       "      <td>False</td>\n",
       "      <td>0</td>\n",
       "    </tr>\n",
       "    <tr>\n",
       "      <td>23471</td>\n",
       "      <td>2018-01-11 23:48:27.414000+00:00</td>\n",
       "      <td>25.245791</td>\n",
       "      <td>standard</td>\n",
       "      <td>1.9</td>\n",
       "      <td>47 Rue de Ponthieu</td>\n",
       "      <td>NaN</td>\n",
       "      <td>0</td>\n",
       "      <td>9</td>\n",
       "      <td>False</td>\n",
       "      <td>0</td>\n",
       "    </tr>\n",
       "    <tr>\n",
       "      <td>23903</td>\n",
       "      <td>2018-01-13 21:01:47.113000+00:00</td>\n",
       "      <td>0.677359</td>\n",
       "      <td>standard</td>\n",
       "      <td>1.0</td>\n",
       "      <td>Roissy Terminal 2E</td>\n",
       "      <td>NaN</td>\n",
       "      <td>0</td>\n",
       "      <td>263</td>\n",
       "      <td>True</td>\n",
       "      <td>0</td>\n",
       "    </tr>\n",
       "    <tr>\n",
       "      <td>24310</td>\n",
       "      <td>2018-01-10 22:15:56.325000+00:00</td>\n",
       "      <td>1.906942</td>\n",
       "      <td>standard</td>\n",
       "      <td>1.0</td>\n",
       "      <td>Roissy Terminal 2F</td>\n",
       "      <td>True</td>\n",
       "      <td>0</td>\n",
       "      <td>362</td>\n",
       "      <td>True</td>\n",
       "      <td>0</td>\n",
       "    </tr>\n",
       "    <tr>\n",
       "      <td>25541</td>\n",
       "      <td>2018-01-16 20:05:11.284000+00:00</td>\n",
       "      <td>0.781995</td>\n",
       "      <td>standard</td>\n",
       "      <td>1.0</td>\n",
       "      <td>Roissy Terminal 2E</td>\n",
       "      <td>True</td>\n",
       "      <td>0</td>\n",
       "      <td>339</td>\n",
       "      <td>True</td>\n",
       "      <td>0</td>\n",
       "    </tr>\n",
       "    <tr>\n",
       "      <td>26366</td>\n",
       "      <td>2018-01-14 12:59:00+00:00</td>\n",
       "      <td>0.000000</td>\n",
       "      <td>standard</td>\n",
       "      <td>1.0</td>\n",
       "      <td>Aéroport de Paris - Orly</td>\n",
       "      <td>True</td>\n",
       "      <td>0</td>\n",
       "      <td>0</td>\n",
       "      <td>True</td>\n",
       "      <td>0</td>\n",
       "    </tr>\n",
       "    <tr>\n",
       "      <td>26461</td>\n",
       "      <td>2018-01-15 22:04:27.919000+00:00</td>\n",
       "      <td>76.336011</td>\n",
       "      <td>standard</td>\n",
       "      <td>1.0</td>\n",
       "      <td>11 Rue des Mâconnais</td>\n",
       "      <td>False</td>\n",
       "      <td>0</td>\n",
       "      <td>93</td>\n",
       "      <td>False</td>\n",
       "      <td>0</td>\n",
       "    </tr>\n",
       "    <tr>\n",
       "      <td>26628</td>\n",
       "      <td>2018-01-11 21:56:35.611000+00:00</td>\n",
       "      <td>2.321763</td>\n",
       "      <td>standard</td>\n",
       "      <td>1.0</td>\n",
       "      <td>Roissy Terminal 2F</td>\n",
       "      <td>True</td>\n",
       "      <td>0</td>\n",
       "      <td>305</td>\n",
       "      <td>True</td>\n",
       "      <td>0</td>\n",
       "    </tr>\n",
       "    <tr>\n",
       "      <td>27959</td>\n",
       "      <td>2018-01-14 08:51:08.650000+00:00</td>\n",
       "      <td>1.561428</td>\n",
       "      <td>standard</td>\n",
       "      <td>1.0</td>\n",
       "      <td>Roissy Terminal 2E</td>\n",
       "      <td>True</td>\n",
       "      <td>0</td>\n",
       "      <td>280</td>\n",
       "      <td>True</td>\n",
       "      <td>0</td>\n",
       "    </tr>\n",
       "    <tr>\n",
       "      <td>29678</td>\n",
       "      <td>2018-01-16 22:57:00+00:00</td>\n",
       "      <td>0.000000</td>\n",
       "      <td>standard</td>\n",
       "      <td>1.0</td>\n",
       "      <td>26 Rue François 1er</td>\n",
       "      <td>False</td>\n",
       "      <td>0</td>\n",
       "      <td>0</td>\n",
       "      <td>False</td>\n",
       "      <td>0</td>\n",
       "    </tr>\n",
       "    <tr>\n",
       "      <td>29755</td>\n",
       "      <td>2018-01-08 16:57:57.036000+00:00</td>\n",
       "      <td>3.690125</td>\n",
       "      <td>standard</td>\n",
       "      <td>1.0</td>\n",
       "      <td>10 Rue Pierre Semard</td>\n",
       "      <td>False</td>\n",
       "      <td>0</td>\n",
       "      <td>42</td>\n",
       "      <td>False</td>\n",
       "      <td>0</td>\n",
       "    </tr>\n",
       "  </tbody>\n",
       "</table>\n",
       "</div>"
      ],
      "text/plain": [
       "                           command_date  bird_flight_distance  car_type  \\\n",
       "1264   2018-01-10 16:55:24.746000+00:00             17.284295  standard   \n",
       "1540   2018-01-09 23:45:25.784000+00:00             11.478979  standard   \n",
       "2046   2018-01-10 01:11:09.027000+00:00             17.303488  standard   \n",
       "3843   2018-01-12 14:33:48.518000+00:00             12.058898  standard   \n",
       "3931   2018-01-13 22:34:47.614000+00:00              2.165196  standard   \n",
       "5082          2018-01-16 22:57:00+00:00              0.000000  standard   \n",
       "5176   2018-01-10 20:06:56.647000+00:00              2.572038  standard   \n",
       "6048   2018-01-11 21:44:21.963000+00:00              1.605894  standard   \n",
       "6291   2018-01-12 07:59:25.793000+00:00              0.146930  standard   \n",
       "6389   2018-01-12 04:59:16.963000+00:00              0.146930  standard   \n",
       "6735   2018-01-09 17:51:26.444000+00:00              1.760172  standard   \n",
       "7761   2018-01-10 13:37:07.926000+00:00              0.146930  standard   \n",
       "7849   2018-01-13 19:51:13.507000+00:00              0.892797  standard   \n",
       "8396   2018-01-11 20:59:23.994000+00:00             18.376565  standard   \n",
       "9017   2018-01-14 01:35:30.041000+00:00              6.404528  standard   \n",
       "9900   2018-01-15 23:43:38.416000+00:00              7.894558  standard   \n",
       "11623  2018-01-08 23:06:47.944000+00:00              0.368252  standard   \n",
       "13312  2018-01-08 11:19:27.605000+00:00             14.584913  standard   \n",
       "13637  2018-01-13 23:05:08.301000+00:00              0.368252  standard   \n",
       "13969  2018-01-16 23:48:19.187000+00:00              6.607991  standard   \n",
       "14738  2018-01-15 23:45:38.477000+00:00              3.583105  standard   \n",
       "15430  2018-01-13 07:25:26.786000+00:00             16.490303     sedan   \n",
       "15489  2018-01-09 23:03:53.874000+00:00              1.155365  standard   \n",
       "15588  2018-01-13 23:44:41.423000+00:00              4.033386  standard   \n",
       "16376  2018-01-15 22:09:17.308000+00:00              1.927226  standard   \n",
       "17692  2018-01-12 12:00:26.598000+00:00             60.839821  standard   \n",
       "19062  2018-01-15 23:45:38.480000+00:00             25.666957  standard   \n",
       "19454  2018-01-12 23:45:03.502000+00:00              3.495822  standard   \n",
       "19982  2018-01-09 21:00:14.826000+00:00             28.804417  standard   \n",
       "20996  2018-01-16 09:22:31.037000+00:00             23.188542  standard   \n",
       "21024  2018-01-13 21:09:27.454000+00:00              2.317075  standard   \n",
       "21249  2018-01-08 21:55:50.461000+00:00              1.681083  standard   \n",
       "21390  2018-01-12 06:34:41.666000+00:00              7.125885  standard   \n",
       "21770  2018-01-09 22:27:13.983000+00:00             15.195777  standard   \n",
       "21910  2018-01-12 19:57:28.119000+00:00              0.728388  standard   \n",
       "22416  2018-01-17 08:42:48.547000+00:00             72.314824  standard   \n",
       "22665  2018-01-15 13:27:12.517000+00:00              0.731488  standard   \n",
       "23146  2018-01-15 23:43:43.966000+00:00              3.294032  standard   \n",
       "23239         2018-01-10 18:27:00+00:00              0.000000  standard   \n",
       "23471  2018-01-11 23:48:27.414000+00:00             25.245791  standard   \n",
       "23903  2018-01-13 21:01:47.113000+00:00              0.677359  standard   \n",
       "24310  2018-01-10 22:15:56.325000+00:00              1.906942  standard   \n",
       "25541  2018-01-16 20:05:11.284000+00:00              0.781995  standard   \n",
       "26366         2018-01-14 12:59:00+00:00              0.000000  standard   \n",
       "26461  2018-01-15 22:04:27.919000+00:00             76.336011  standard   \n",
       "26628  2018-01-11 21:56:35.611000+00:00              2.321763  standard   \n",
       "27959  2018-01-14 08:51:08.650000+00:00              1.561428  standard   \n",
       "29678         2018-01-16 22:57:00+00:00              0.000000  standard   \n",
       "29755  2018-01-08 16:57:57.036000+00:00              3.690125  standard   \n",
       "\n",
       "       surge                               address is_from_airport  eta  rta  \\\n",
       "1264     1.0                         Gare de l'Est           False    0    6   \n",
       "1540     1.5                    47 Rue De Ponthieu           False    0   37   \n",
       "2046     1.0                      29 Rue Chauvelot           False    0   24   \n",
       "3843     1.0                    Roissy Terminal 2F            True    0  347   \n",
       "3931     1.0                        CDG terminal 1            True    0   12   \n",
       "5082     1.0                   26 Rue François 1er           False    0    0   \n",
       "5176     1.0                    Roissy Terminal 2G            True    0  315   \n",
       "6048     1.0                    Roissy Terminal 2F            True    0   52   \n",
       "6291     1.0                    Roissy Terminal 2E            True    0  203   \n",
       "6389     1.0                    Roissy Terminal 2E            True    0  339   \n",
       "6735     1.0                 25 Rue Georges Méliès           False    0  142   \n",
       "7761     1.0                    Roissy Terminal 2E            True    0  300   \n",
       "7849     1.0                    Roissy Terminal 2F            True    0  559   \n",
       "8396     1.0  de zww SW ssw, 4 Boulevard Noël Marc           False    0    8   \n",
       "9017     1.4                        41 Rue Galilée           False    0   12   \n",
       "9900     1.9                    47 Rue De Ponthieu           False    0    4   \n",
       "11623    1.0                     Orly Terminal Sud             NaN    0  255   \n",
       "13312    1.0                    27 Avenue George V           False    0   32   \n",
       "13637    1.0                     Orly Terminal Sud            True    0    9   \n",
       "13969    1.9                    47 Rue de Ponthieu           False    0    8   \n",
       "14738    1.9                    47 Rue De Ponthieu           False    0    5   \n",
       "15430    1.0                    20 Rue du Tintoret           False    0    9   \n",
       "15489    1.0                     Orly Terminal Sud            True    0  263   \n",
       "15588    1.9                    47 Rue de Ponthieu           False    0   16   \n",
       "16376    1.0                    Roissy Terminal 2F            True    0  342   \n",
       "17692    1.0                       10 Avenue Hoche           False    0   59   \n",
       "19062    1.9                    47 Rue de Ponthieu           False    0   14   \n",
       "19454    1.6                    47 Rue de Ponthieu           False    0   11   \n",
       "19982    1.0             3-5 Place des Marseillais           False    0   30   \n",
       "20996    1.0                    Roissy Terminal 2E            True    0   11   \n",
       "21024    1.0                    19 Avenue George V           False    0  167   \n",
       "21249    1.0                     Orly Terminal Sud            True    0  300   \n",
       "21390    1.0                126 Rue Emile Beaufils           False    0   48   \n",
       "21770    1.0                    Roissy Terminal 2F            True    0  358   \n",
       "21910    1.0                    Roissy Terminal 2E            True    0  376   \n",
       "22416    1.0                228 Quai de Stalingrad           False    0  103   \n",
       "22665    1.0                     Orly Terminal Sud            True    0  375   \n",
       "23146    1.0                  27 Rue de Courcelles             NaN    0   24   \n",
       "23239    1.0                   82 Rue Henry Farman           False    0    0   \n",
       "23471    1.9                    47 Rue de Ponthieu             NaN    0    9   \n",
       "23903    1.0                    Roissy Terminal 2E             NaN    0  263   \n",
       "24310    1.0                    Roissy Terminal 2F            True    0  362   \n",
       "25541    1.0                    Roissy Terminal 2E            True    0  339   \n",
       "26366    1.0              Aéroport de Paris - Orly            True    0    0   \n",
       "26461    1.0                  11 Rue des Mâconnais           False    0   93   \n",
       "26628    1.0                    Roissy Terminal 2F            True    0  305   \n",
       "27959    1.0                    Roissy Terminal 2E            True    0  280   \n",
       "29678    1.0                   26 Rue François 1er           False    0    0   \n",
       "29755    1.0                  10 Rue Pierre Semard           False    0   42   \n",
       "\n",
       "       new_is_from_airport  surge_was_missing  \n",
       "1264                 False                  0  \n",
       "1540                 False                  0  \n",
       "2046                 False                  0  \n",
       "3843                  True                  0  \n",
       "3931                  True                  0  \n",
       "5082                 False                  0  \n",
       "5176                  True                  0  \n",
       "6048                  True                  0  \n",
       "6291                  True                  0  \n",
       "6389                  True                  0  \n",
       "6735                 False                  1  \n",
       "7761                  True                  0  \n",
       "7849                  True                  0  \n",
       "8396                 False                  0  \n",
       "9017                 False                  0  \n",
       "9900                 False                  0  \n",
       "11623                 True                  0  \n",
       "13312                False                  1  \n",
       "13637                 True                  0  \n",
       "13969                False                  0  \n",
       "14738                False                  0  \n",
       "15430                False                  0  \n",
       "15489                 True                  0  \n",
       "15588                False                  0  \n",
       "16376                 True                  0  \n",
       "17692                False                  0  \n",
       "19062                False                  0  \n",
       "19454                False                  0  \n",
       "19982                False                  0  \n",
       "20996                 True                  0  \n",
       "21024                False                  0  \n",
       "21249                 True                  0  \n",
       "21390                False                  0  \n",
       "21770                 True                  0  \n",
       "21910                 True                  0  \n",
       "22416                False                  1  \n",
       "22665                 True                  0  \n",
       "23146                False                  1  \n",
       "23239                False                  0  \n",
       "23471                False                  0  \n",
       "23903                 True                  0  \n",
       "24310                 True                  0  \n",
       "25541                 True                  0  \n",
       "26366                 True                  0  \n",
       "26461                False                  0  \n",
       "26628                 True                  0  \n",
       "27959                 True                  0  \n",
       "29678                False                  0  \n",
       "29755                False                  0  "
      ]
     },
     "execution_count": 595,
     "metadata": {},
     "output_type": "execute_result"
    }
   ],
   "source": [
    "len(clean_df[clean_df.eta == 0])\n",
    "clean_df[clean_df.eta == 0]"
   ]
  },
  {
   "cell_type": "markdown",
   "metadata": {},
   "source": [
    "Same for **bird_flight_distance**"
   ]
  },
  {
   "cell_type": "code",
   "execution_count": 598,
   "metadata": {},
   "outputs": [
    {
     "data": {
      "text/plain": [
       "<matplotlib.legend.Legend at 0x17ba16d90>"
      ]
     },
     "execution_count": 598,
     "metadata": {},
     "output_type": "execute_result"
    },
    {
     "data": {
      "image/png": "[encoded data removed]",
      "text/plain": [
       "<Figure size 576x432 with 1 Axes>"
      ]
     },
     "metadata": {},
     "output_type": "display_data"
    }
   ],
   "source": [
    "plt.figure(figsize=(8,6))\n",
    "sns.distplot(np.log(np.maximum(clean_df['bird_flight_distance'], 1)), label='bird_flight_distance')\n",
    "plt.legend()"
   ]
  },
  {
   "cell_type": "markdown",
   "metadata": {},
   "source": [
    "- Log-normal distribution\n",
    "- Any outliers detected easily (needs to look at observations one by one)"
   ]
  },
  {
   "cell_type": "markdown",
   "metadata": {},
   "source": [
    "## 3. Machine learning\n",
    "In this section, you have to use a machine learning algorithm to predict the variable `rta`\n"
   ]
  },
  {
   "cell_type": "code",
   "execution_count": 599,
   "metadata": {
    "scrolled": true
   },
   "outputs": [
    {
     "data": {
      "text/html": [
       "<div>\n",
       "<style scoped>\n",
       "    .dataframe tbody tr th:only-of-type {\n",
       "        vertical-align: middle;\n",
       "    }\n",
       "\n",
       "    .dataframe tbody tr th {\n",
       "        vertical-align: top;\n",
       "    }\n",
       "\n",
       "    .dataframe thead th {\n",
       "        text-align: right;\n",
       "    }\n",
       "</style>\n",
       "<table border=\"1\" class=\"dataframe\">\n",
       "  <thead>\n",
       "    <tr style=\"text-align: right;\">\n",
       "      <th></th>\n",
       "      <th>Nulls</th>\n",
       "      <th>Nulls (%)</th>\n",
       "      <th>Type</th>\n",
       "      <th>Cardinality</th>\n",
       "    </tr>\n",
       "    <tr>\n",
       "      <th>Feat</th>\n",
       "      <th></th>\n",
       "      <th></th>\n",
       "      <th></th>\n",
       "      <th></th>\n",
       "    </tr>\n",
       "  </thead>\n",
       "  <tbody>\n",
       "    <tr>\n",
       "      <td>is_from_airport</td>\n",
       "      <td>1554</td>\n",
       "      <td>5.18</td>\n",
       "      <td>object</td>\n",
       "      <td>2</td>\n",
       "    </tr>\n",
       "    <tr>\n",
       "      <td>new_is_from_airport</td>\n",
       "      <td>0</td>\n",
       "      <td>0.00</td>\n",
       "      <td>bool</td>\n",
       "      <td>2</td>\n",
       "    </tr>\n",
       "    <tr>\n",
       "      <td>surge_was_missing</td>\n",
       "      <td>0</td>\n",
       "      <td>0.00</td>\n",
       "      <td>int64</td>\n",
       "      <td>2</td>\n",
       "    </tr>\n",
       "    <tr>\n",
       "      <td>car_type</td>\n",
       "      <td>0</td>\n",
       "      <td>0.00</td>\n",
       "      <td>object</td>\n",
       "      <td>3</td>\n",
       "    </tr>\n",
       "    <tr>\n",
       "      <td>surge</td>\n",
       "      <td>0</td>\n",
       "      <td>0.00</td>\n",
       "      <td>float64</td>\n",
       "      <td>9</td>\n",
       "    </tr>\n",
       "    <tr>\n",
       "      <td>eta</td>\n",
       "      <td>0</td>\n",
       "      <td>0.00</td>\n",
       "      <td>int64</td>\n",
       "      <td>1262</td>\n",
       "    </tr>\n",
       "    <tr>\n",
       "      <td>rta</td>\n",
       "      <td>0</td>\n",
       "      <td>0.00</td>\n",
       "      <td>int64</td>\n",
       "      <td>1465</td>\n",
       "    </tr>\n",
       "    <tr>\n",
       "      <td>address</td>\n",
       "      <td>0</td>\n",
       "      <td>0.00</td>\n",
       "      <td>object</td>\n",
       "      <td>20207</td>\n",
       "    </tr>\n",
       "    <tr>\n",
       "      <td>bird_flight_distance</td>\n",
       "      <td>0</td>\n",
       "      <td>0.00</td>\n",
       "      <td>float64</td>\n",
       "      <td>29962</td>\n",
       "    </tr>\n",
       "    <tr>\n",
       "      <td>command_date</td>\n",
       "      <td>0</td>\n",
       "      <td>0.00</td>\n",
       "      <td>object</td>\n",
       "      <td>29994</td>\n",
       "    </tr>\n",
       "  </tbody>\n",
       "</table>\n",
       "</div>"
      ],
      "text/plain": [
       "                      Nulls  Nulls (%)     Type  Cardinality\n",
       "Feat                                                        \n",
       "is_from_airport        1554       5.18   object            2\n",
       "new_is_from_airport       0       0.00     bool            2\n",
       "surge_was_missing         0       0.00    int64            2\n",
       "car_type                  0       0.00   object            3\n",
       "surge                     0       0.00  float64            9\n",
       "eta                       0       0.00    int64         1262\n",
       "rta                       0       0.00    int64         1465\n",
       "address                   0       0.00   object        20207\n",
       "bird_flight_distance      0       0.00  float64        29962\n",
       "command_date              0       0.00   object        29994"
      ]
     },
     "execution_count": 599,
     "metadata": {},
     "output_type": "execute_result"
    }
   ],
   "source": [
    "overview_features(clean_df)"
   ]
  },
  {
   "cell_type": "markdown",
   "metadata": {},
   "source": [
    "- I will sort data by date before splitting. Indeed data is recovered in that way "
   ]
  },
  {
   "cell_type": "code",
   "execution_count": 600,
   "metadata": {},
   "outputs": [],
   "source": [
    "clean_df.sort_values(by=['command_date'], ascending=True, inplace=True)"
   ]
  },
  {
   "cell_type": "code",
   "execution_count": 601,
   "metadata": {},
   "outputs": [],
   "source": [
    "clean_df = clean_df.reset_index(drop=True)"
   ]
  },
  {
   "cell_type": "code",
   "execution_count": 602,
   "metadata": {},
   "outputs": [],
   "source": [
    "target = ['rta']\n",
    "\n",
    "categorical_features = ['new_is_from_airport', 'car_type']\n",
    "continuous_features = ['surge_was_missing', 'surge', 'eta', 'bird_flight_distance']\n",
    "\n",
    "datetime_feature = ['command_date']"
   ]
  },
  {
   "cell_type": "markdown",
   "metadata": {},
   "source": [
    "- Before splitting, I add a new column using datetime "
   ]
  },
  {
   "cell_type": "markdown",
   "metadata": {},
   "source": [
    "I will recover only hour from the datetime column. I only have one week of data, if I had more I could have added:\n",
    "- Month\n",
    "- Weekday\n",
    "- Weekend or not\n",
    "..."
   ]
  },
  {
   "cell_type": "code",
   "execution_count": 603,
   "metadata": {},
   "outputs": [],
   "source": [
    "# Hour\n",
    "clean_df['hour'] = pd.to_datetime(clean_df.command_date).dt.hour\n",
    "categorical_features.append('hour')\n",
    "\n",
    "# Weekend\n",
    "clean_df['weekend'] = pd.to_datetime(clean_df.command_date).dt.weekday // 5\n",
    "continuous_features.append('weekend')"
   ]
  },
  {
   "cell_type": "code",
   "execution_count": 604,
   "metadata": {},
   "outputs": [],
   "source": [
    "X = clean_df[categorical_features + continuous_features]\n",
    "y = clean_df[target]"
   ]
  },
  {
   "cell_type": "markdown",
   "metadata": {},
   "source": [
    "#### Split dataset into Train and Test"
   ]
  },
  {
   "cell_type": "code",
   "execution_count": 609,
   "metadata": {},
   "outputs": [],
   "source": [
    "split_ratio = 0.2\n",
    "split_index = int(len(X) * (1 - split_ratio))\n",
    "\n",
    "X_train = X.iloc[: split_index, :]\n",
    "y_train = y.iloc[: split_index, :]\n",
    "\n",
    "X_test = X.iloc[split_index:, :]\n",
    "y_test = y.iloc[split_index:, :]"
   ]
  },
  {
   "cell_type": "code",
   "execution_count": 610,
   "metadata": {
    "scrolled": false
   },
   "outputs": [
    {
     "data": {
      "text/plain": [
       "<matplotlib.legend.Legend at 0x17bbc7950>"
      ]
     },
     "execution_count": 610,
     "metadata": {},
     "output_type": "execute_result"
    },
    {
     "data": {
      "image/png": "[encoded data removed]",
      "text/plain": [
       "<Figure size 720x576 with 1 Axes>"
      ]
     },
     "metadata": {},
     "output_type": "display_data"
    }
   ],
   "source": [
    "# Check if test and train have same distribution of target\n",
    "\n",
    "plt.figure(figsize=(10,8))\n",
    "sns.distplot(y_train.values, bins=20, label='Train')\n",
    "sns.distplot(y_test.values, bins=20, label='Test')\n",
    "plt.title('Compare Train and Test target distribution', fontsize=15)\n",
    "plt.legend(loc='upper right')"
   ]
  },
  {
   "cell_type": "markdown",
   "metadata": {},
   "source": [
    "- Test and Train target distributions are not very different. I can built a model."
   ]
  },
  {
   "cell_type": "markdown",
   "metadata": {},
   "source": [
    "#### Preprocessing categorical features: One hot encoding for feature with low cardinality. \n",
    "Concerning the feature \"address\" which is very important, i removed it since I have no time to dig more on how to use it. But it is undoubtedly a very important feature."
   ]
  },
  {
   "cell_type": "code",
   "execution_count": 611,
   "metadata": {},
   "outputs": [
    {
     "name": "stderr",
     "output_type": "stream",
     "text": [
      "/Users/ddebbaghnour/Documents/Apache_Beam/beam_env_python3/lib/python3.7/site-packages/pandas/core/frame.py:4102: SettingWithCopyWarning: \n",
      "A value is trying to be set on a copy of a slice from a DataFrame\n",
      "\n",
      "See the caveats in the documentation: http://pandas.pydata.org/pandas-docs/stable/user_guide/indexing.html#returning-a-view-versus-a-copy\n",
      "  errors=errors,\n",
      "/Users/ddebbaghnour/Documents/Apache_Beam/beam_env_python3/lib/python3.7/site-packages/pandas/core/frame.py:4102: SettingWithCopyWarning: \n",
      "A value is trying to be set on a copy of a slice from a DataFrame\n",
      "\n",
      "See the caveats in the documentation: http://pandas.pydata.org/pandas-docs/stable/user_guide/indexing.html#returning-a-view-versus-a-copy\n",
      "  errors=errors,\n"
     ]
    }
   ],
   "source": [
    "# One hot encode categorical features \n",
    "one_hot_encoder = OneHotEncoder(handle_unknown='ignore', sparse=False)\n",
    "\n",
    "def fit_transform(df, istrain, fitter):\n",
    "    \n",
    "    if istrain:\n",
    "        fitter.fit(df)\n",
    "        \n",
    "    df_transformed = fitter.transform(df)\n",
    "    \n",
    "    return df_transformed\n",
    "\n",
    "\n",
    "# Train\n",
    "one_hot_X_train = X_train[categorical_features]\n",
    "\n",
    "one_hot_X_train = pd.DataFrame(fit_transform(one_hot_X_train, True, one_hot_encoder))\n",
    "one_hot_X_train.set_axis(one_hot_encoder.get_feature_names(list(X_train[categorical_features].columns)),\n",
    "                                                           axis=1, inplace=True)\n",
    "X_train.drop(categorical_features, axis=1, inplace=True)\n",
    "\n",
    "X_train = pd.concat([X_train, one_hot_X_train], axis=1, sort=False)\n",
    "\n",
    "\n",
    "# Test\n",
    "one_hot_X_test = X_test[categorical_features]\n",
    "one_hot_X_test = pd.DataFrame(fit_transform(one_hot_X_test, False, one_hot_encoder))\n",
    "one_hot_X_test.set_axis(one_hot_encoder.get_feature_names(list(X_test[categorical_features].columns)),\n",
    "                                                           axis=1, inplace=True)\n",
    "one_hot_X_test.reset_index(drop=True, inplace=True)\n",
    "X_test.drop(categorical_features, axis=1, inplace=True)\n",
    "\n",
    "\n",
    "X_test = pd.concat([X_test.reset_index(drop=True), one_hot_X_test], axis=1, sort=False)"
   ]
  },
  {
   "cell_type": "markdown",
   "metadata": {},
   "source": [
    "#### Preprocessing continuous features"
   ]
  },
  {
   "cell_type": "markdown",
   "metadata": {},
   "source": [
    "Here I scale continuous features to use them for linear models"
   ]
  },
  {
   "cell_type": "code",
   "execution_count": 612,
   "metadata": {},
   "outputs": [],
   "source": [
    "# Scaling continuous features \n",
    "old_X_test = X_test.copy()\n",
    "\n",
    "minmax_scaler = MinMaxScaler()\n",
    "\n",
    "feat_to_scale = ['surge', 'eta', 'bird_flight_distance']\n",
    "\n",
    "# Train\n",
    "X_train_scaled = pd.DataFrame(fit_transform(X_train[feat_to_scale], True, minmax_scaler), columns=feat_to_scale)\n",
    "X_train[feat_to_scale] = X_train_scaled\n",
    "\n",
    "# Test\n",
    "X_test_scaled = pd.DataFrame(fit_transform(X_test[feat_to_scale], False, minmax_scaler), columns=feat_to_scale)\n",
    "X_test[feat_to_scale] = X_test_scaled"
   ]
  },
  {
   "cell_type": "markdown",
   "metadata": {},
   "source": [
    "#### Model"
   ]
  },
  {
   "cell_type": "code",
   "execution_count": 487,
   "metadata": {},
   "outputs": [],
   "source": [
    "models = [\n",
    "        RandomForestRegressor(n_jobs=-1),\n",
    "        LinearRegression(),\n",
    "        Lasso(),\n",
    "        XGBRegressor(n_thread=-1)\n",
    "]"
   ]
  },
  {
   "cell_type": "markdown",
   "metadata": {},
   "source": [
    "- I need to be careful here before doing a cross validation to choose the right model. Indeed data comes in an order fixed by 'command_date'. \n",
    "- Due to lack of time I will split my Train into Train and Validation data sets. I will chose the model that gives me the best MSE score here. I will finally evaluate the model on the Test data set. \n",
    "- Here I choose the MSE for the loss to train models. Indeed, since I didn't remove RTA with high value, I want them to be part of the model and influence it"
   ]
  },
  {
   "cell_type": "code",
   "execution_count": 618,
   "metadata": {},
   "outputs": [],
   "source": [
    "split_validatio_ratio = 0.2 \n",
    "split_validation_index = int(len(X_train) * (1 - split_validatio_ratio))\n",
    "\n",
    "X_train_new = X_train.iloc[: split_validation_index, :]\n",
    "y_train_new = y_train.iloc[: split_validation_index, :]\n",
    "\n",
    "X_validation = X_train.iloc[split_validation_index:, :]\n",
    "y_validation = y_train.iloc[split_validation_index:, :]"
   ]
  },
  {
   "cell_type": "code",
   "execution_count": 620,
   "metadata": {
    "scrolled": false
   },
   "outputs": [
    {
     "name": "stderr",
     "output_type": "stream",
     "text": [
      "/Users/ddebbaghnour/Documents/Apache_Beam/beam_env_python3/lib/python3.7/site-packages/ipykernel_launcher.py:2: DataConversionWarning: A column-vector y was passed when a 1d array was expected. Please change the shape of y to (n_samples,), for example using ravel().\n",
      "  \n"
     ]
    },
    {
     "name": "stdout",
     "output_type": "stream",
     "text": [
      "RandomForestRegressor - MSE: 30821.525866203698\n",
      "LinearRegression - MSE: 26010.314329427085\n",
      "Lasso - MSE: 27291.36897728601\n",
      "[17:04:24] WARNING: src/objective/regression_obj.cu:152: reg:linear is now deprecated in favor of reg:squarederror.\n",
      "XGBRegressor - MSE: 25366.53058075341\n"
     ]
    }
   ],
   "source": [
    "for model in models:\n",
    "    model.fit(X_train_new, y_train_new)\n",
    "    predictions = model.predict(X_validation)\n",
    "    print(type(model).__name__, '- MSE:', mean_squared_error(y_validation, predictions))\n"
   ]
  },
  {
   "cell_type": "markdown",
   "metadata": {},
   "source": [
    "- The linear regression performs almost as well as xgboost, it is probably due to ETA which plays a big role in predictions (hence a linear model can perform well)"
   ]
  },
  {
   "cell_type": "markdown",
   "metadata": {},
   "source": [
    "- Here I will do a gridsearch on very few parameters. (Another gridsearch should be done later with bigger ranges of values, and using other parameters)"
   ]
  },
  {
   "cell_type": "code",
   "execution_count": 622,
   "metadata": {},
   "outputs": [
    {
     "name": "stdout",
     "output_type": "stream",
     "text": [
      "[17:14:03] WARNING: src/objective/regression_obj.cu:152: reg:linear is now deprecated in favor of reg:squarederror.\n",
      "[17:14:05] WARNING: src/objective/regression_obj.cu:152: reg:linear is now deprecated in favor of reg:squarederror.\n",
      "[17:14:08] WARNING: src/objective/regression_obj.cu:152: reg:linear is now deprecated in favor of reg:squarederror.\n",
      "[17:14:11] WARNING: src/objective/regression_obj.cu:152: reg:linear is now deprecated in favor of reg:squarederror.\n",
      "[17:14:15] WARNING: src/objective/regression_obj.cu:152: reg:linear is now deprecated in favor of reg:squarederror.\n",
      "[17:14:20] WARNING: src/objective/regression_obj.cu:152: reg:linear is now deprecated in favor of reg:squarederror.\n",
      "[17:14:27] WARNING: src/objective/regression_obj.cu:152: reg:linear is now deprecated in favor of reg:squarederror.\n",
      "[17:14:33] WARNING: src/objective/regression_obj.cu:152: reg:linear is now deprecated in favor of reg:squarederror.\n",
      "[17:14:41] WARNING: src/objective/regression_obj.cu:152: reg:linear is now deprecated in favor of reg:squarederror.\n",
      "[17:14:51] WARNING: src/objective/regression_obj.cu:152: reg:linear is now deprecated in favor of reg:squarederror.\n",
      "[17:14:59] WARNING: src/objective/regression_obj.cu:152: reg:linear is now deprecated in favor of reg:squarederror.\n",
      "[17:15:09] WARNING: src/objective/regression_obj.cu:152: reg:linear is now deprecated in favor of reg:squarederror.\n"
     ]
    }
   ],
   "source": [
    "params = {'n_estimators': [100, 200, 300, 400], 'max_depth': [2,3,4]}\n",
    "\n",
    "best_score = 1000000000\n",
    "best_n_estimators = None\n",
    "best_max_depth = None\n",
    "\n",
    "for nbr_est in params['n_estimators']:\n",
    "    for max_d in params['max_depth']:\n",
    "        xgb_reg = XGBRegressor(n_estimators=nbr_est, max_depth=max_d)\n",
    "        xgb_reg.fit(X_train_new, y_train_new)\n",
    "        predictions = xgb_reg.predict(X_validation)\n",
    "        mse = mean_squared_error(y_validation, predictions)\n",
    "        if mse < best_score: \n",
    "            best_score = mse\n",
    "            best_n_estimators = nbr_est\n",
    "            best_max_depth = max_d"
   ]
  },
  {
   "cell_type": "code",
   "execution_count": 624,
   "metadata": {},
   "outputs": [
    {
     "name": "stdout",
     "output_type": "stream",
     "text": [
      "Best parameters:\n",
      "best_n_estimators: 200\n",
      "best_max_depth: 3\n"
     ]
    }
   ],
   "source": [
    "print('Best parameters:')\n",
    "print('best_n_estimators:', best_n_estimators)\n",
    "print('best_max_depth:', best_max_depth)"
   ]
  },
  {
   "cell_type": "markdown",
   "metadata": {},
   "source": [
    "Now that I have chosen the 'best' model, I evaluate it on Test data set"
   ]
  },
  {
   "cell_type": "code",
   "execution_count": 621,
   "metadata": {},
   "outputs": [
    {
     "name": "stdout",
     "output_type": "stream",
     "text": [
      "[17:07:43] WARNING: src/objective/regression_obj.cu:152: reg:linear is now deprecated in favor of reg:squarederror.\n"
     ]
    },
    {
     "data": {
      "text/plain": [
       "XGBRegressor(base_score=0.5, booster='gbtree', colsample_bylevel=1,\n",
       "             colsample_bynode=1, colsample_bytree=1, gamma=0,\n",
       "             importance_type='gain', learning_rate=0.1, max_delta_step=0,\n",
       "             max_depth=3, min_child_weight=1, missing=None, n_estimators=100,\n",
       "             n_jobs=1, nthread=None, objective='reg:linear', random_state=0,\n",
       "             reg_alpha=0, reg_lambda=1, scale_pos_weight=1, seed=None,\n",
       "             silent=None, subsample=1, verbosity=1)"
      ]
     },
     "execution_count": 621,
     "metadata": {},
     "output_type": "execute_result"
    }
   ],
   "source": []
  },
  {
   "cell_type": "markdown",
   "metadata": {},
   "source": [
    "## 4. Your algorithm performance\n",
    "In this section, you have to describe you algorithm's performance (overfitting, underfitting, good or bad results, ...)"
   ]
  },
  {
   "cell_type": "markdown",
   "metadata": {},
   "source": [
    "- Here I will compare the model built to the case where we simply use the ETA only\n",
    "- I will use MAE to compare models and evaluate them (mean value of error made on predictions)"
   ]
  },
  {
   "cell_type": "code",
   "execution_count": 626,
   "metadata": {},
   "outputs": [
    {
     "name": "stdout",
     "output_type": "stream",
     "text": [
      "[17:20:16] WARNING: src/objective/regression_obj.cu:152: reg:linear is now deprecated in favor of reg:squarederror.\n"
     ]
    },
    {
     "data": {
      "text/plain": [
       "XGBRegressor(base_score=0.5, booster='gbtree', colsample_bylevel=1,\n",
       "             colsample_bynode=1, colsample_bytree=1, gamma=0,\n",
       "             importance_type='gain', learning_rate=0.1, max_delta_step=0,\n",
       "             max_depth=3, min_child_weight=1, missing=None, n_estimators=200,\n",
       "             n_jobs=1, nthread=None, objective='reg:linear', random_state=0,\n",
       "             reg_alpha=0, reg_lambda=1, scale_pos_weight=1, seed=None,\n",
       "             silent=None, subsample=1, verbosity=1)"
      ]
     },
     "execution_count": 626,
     "metadata": {},
     "output_type": "execute_result"
    }
   ],
   "source": [
    "xgb_reg = XGBRegressor(n_estimators=200, max_depth=3)\n",
    "xgb_reg.fit(X_train, y_train)"
   ]
  },
  {
   "cell_type": "code",
   "execution_count": 628,
   "metadata": {},
   "outputs": [
    {
     "name": "stdout",
     "output_type": "stream",
     "text": [
      "Model prediction 111.02071599260967\n",
      "Using only ETA 125.56283333333333\n"
     ]
    }
   ],
   "source": [
    "y_pred_xgb = xgb_reg.predict(X_test)\n",
    "print('Model prediction {}'.format(mean_absolute_error(y_test, y_pred_xgb)))\n",
    "print('Using only ETA {}'.format(mean_absolute_error(y_test, old_X_test['eta'])))"
   ]
  },
  {
   "cell_type": "markdown",
   "metadata": {},
   "source": [
    "- Here we see that the model makes better predictions than when using only the ETA. (However we used also the ETA among the features like if it was a stacking model)"
   ]
  },
  {
   "cell_type": "code",
   "execution_count": 632,
   "metadata": {},
   "outputs": [
    {
     "name": "stdout",
     "output_type": "stream",
     "text": [
      "[17:27:21] WARNING: src/objective/regression_obj.cu:152: reg:linear is now deprecated in favor of reg:squarederror.\n",
      "Model prediction 127.96723935381571\n",
      "Using only ETA 125.56283333333333\n"
     ]
    }
   ],
   "source": [
    "# Not using ETA (needs to do another benchmark of models to choose the right one)\n",
    "\n",
    "xgb_reg_without_eta = XGBRegressor(n_estimators=200, max_depth=3)\n",
    "xgb_reg_without_eta.fit(X_train.drop('eta', axis=1), y_train)\n",
    "y_pred_xgb_without_eta = xgb_reg_without_eta.predict(X_test.drop('eta', axis=1))\n",
    "print('Model prediction {}'.format(mean_absolute_error(y_test, y_pred_xgb_without_eta)))\n",
    "print('Using only ETA {}'.format(mean_absolute_error(y_test, old_X_test['eta'])))"
   ]
  },
  {
   "cell_type": "markdown",
   "metadata": {},
   "source": [
    "- Results are worse than using only ETA"
   ]
  },
  {
   "cell_type": "code",
   "execution_count": 634,
   "metadata": {},
   "outputs": [
    {
     "name": "stdout",
     "output_type": "stream",
     "text": [
      "Mean value of RTA in y_test: 422.18216666666666\n"
     ]
    }
   ],
   "source": [
    "print('Mean value of RTA in y_test: {}'.format(y_test['rta'].mean()))"
   ]
  },
  {
   "cell_type": "markdown",
   "metadata": {},
   "source": [
    "- Results here seems bad to me. Indeed MAE is 111 (seconds?) and the mean value of RTA is 422 which is only four times higher than the mean error the model makes. \n",
    "\n",
    "- Many improvements have to be done during the preprocessing and feature creation"
   ]
  },
  {
   "cell_type": "code",
   "execution_count": 635,
   "metadata": {},
   "outputs": [
    {
     "data": {
      "text/plain": [
       "99.06081467892481"
      ]
     },
     "execution_count": 635,
     "metadata": {},
     "output_type": "execute_result"
    }
   ],
   "source": [
    "# Overfitting ?\n",
    "\n",
    "y_train_predictions = xgb_reg.predict(X_train)\n",
    "\n",
    "mean_absolute_error(y_train, y_train_predictions)"
   ]
  },
  {
   "cell_type": "markdown",
   "metadata": {},
   "source": [
    "- The model has better results on training data. However the gap on MAE is not that high. I cannot say that the model overfits here"
   ]
  },
  {
   "cell_type": "code",
   "execution_count": 636,
   "metadata": {},
   "outputs": [
    {
     "name": "stdout",
     "output_type": "stream",
     "text": [
      "Min value of predictions: 33.97433\n",
      "Max value of predictions: 2168.8328\n"
     ]
    }
   ],
   "source": [
    "print('Min value of predictions:', min(y_pred_xgb))\n",
    "print('Max value of predictions:', max(y_pred_xgb))"
   ]
  },
  {
   "cell_type": "markdown",
   "metadata": {},
   "source": [
    "- The model does not predict negative values\n",
    "- The model does also not predict very low values. The model is safer than others that can predict very low values, then the user gets disapointed"
   ]
  },
  {
   "cell_type": "markdown",
   "metadata": {},
   "source": [
    "#### Plot mean error distribution"
   ]
  },
  {
   "cell_type": "code",
   "execution_count": 638,
   "metadata": {
    "scrolled": false
   },
   "outputs": [
    {
     "data": {
      "text/plain": [
       "<matplotlib.legend.Legend at 0x17bd0ccd0>"
      ]
     },
     "execution_count": 638,
     "metadata": {},
     "output_type": "execute_result"
    },
    {
     "data": {
      "image/png": "[encoded data removed]",
      "text/plain": [
       "<Figure size 720x576 with 1 Axes>"
      ]
     },
     "metadata": {},
     "output_type": "display_data"
    }
   ],
   "source": [
    "plt.figure(figsize=(10, 8))\n",
    "errors = y_test['rta'].values - y_pred_xgb\n",
    "sns.distplot(errors, label='Mean error: {}'.format(np.mean(errors)))\n",
    "plt.axvline(np.quantile(errors, 0.05), label='quantile 0.05: {}'.format(np.quantile(errors, 0.05)), c='r')\n",
    "plt.axvline(np.quantile(errors, 0.95), label='quantile 0.95: {}'.format(np.quantile(errors, 0.95)), c='r')\n",
    "plt.legend()"
   ]
  },
  {
   "cell_type": "markdown",
   "metadata": {},
   "source": [
    "- We observe that the model sometimes predicts very bad results, which makes the MAE pretty high. \n",
    "- we still observe an error distribution looking like a gaussian with a mean close to 0, which is a good point for the model."
   ]
  },
  {
   "cell_type": "markdown",
   "metadata": {},
   "source": [
    "## 5. Conclusion\n",
    "In this section, you can add a final conclusion"
   ]
  },
  {
   "cell_type": "markdown",
   "metadata": {},
   "source": [
    "The model built above is not performing well. An MAE of 2 minutes is pretty high knowing that the mean RTA is 8 minutes. \n",
    "\n",
    "However the model performs better than if we only show the ETA. This model uses the ETA computed by another model, which is not really bothering (need to check also time consumption to make the predictions).\n",
    "\n",
    "An interesting information was not used here which is the address. Indeed knowing for example the GPS coordinates will simplify the problem. A simple moving weighted average can make some very good predictions. It can also be part of another model as a feature. It will catch if the information about the traffic around the address. Other features can be generated to improve the model.\n",
    "\n",
    "A more detailled investigation on outliers is necessary to clean our data. Here I couldn't find (in the time given) a pattern that indicates the existence of outliers. Once these outliers detected more carefully, we can use the MAE as a loss for the model (since I consider it as a good evaluation metric)."
   ]
  },
  {
   "cell_type": "code",
   "execution_count": null,
   "metadata": {},
   "outputs": [],
   "source": []
  }
 ],
 "metadata": {
  "kernelspec": {
   "display_name": "Python 3",
   "language": "python",
   "name": "python3"
  },
  "language_info": {
   "codemirror_mode": {
    "name": "ipython",
    "version": 3
   },
   "file_extension": ".py",
   "mimetype": "text/x-python",
   "name": "python",
   "nbconvert_exporter": "python",
   "pygments_lexer": "ipython3",
   "version": "3.7.4"
  }
 },
 "nbformat": 4,
 "nbformat_minor": 2
}
