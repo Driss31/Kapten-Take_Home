{
 "cells": [
  {
   "cell_type": "markdown",
   "metadata": {},
   "source": [
    "# Introduction"
   ]
  },
  {
   "cell_type": "markdown",
   "metadata": {},
   "source": [
    "In computer science, a binary tree is a tree data structure in which each node has at most two children, which are referred to as the left child and the right child. \n",
    "`(Source: Wikipedia)`\n",
    "\n"
   ]
  },
  {
   "cell_type": "markdown",
   "metadata": {},
   "source": [
    "The class Node models a node. it has only two fields:\n",
    "- The left child: A Node (can be equal to None if there is no left child).\n",
    "- The right child: A Node (can be equal to None if there is no right child)."
   ]
  },
  {
   "cell_type": "code",
   "execution_count": 38,
   "metadata": {},
   "outputs": [],
   "source": [
    "class Node:\n",
    "    \n",
    "    def __init__(self, left_child, right_child):\n",
    "        \n",
    "        self.left_child = left_child\n",
    "        self.right_child = right_child\n"
   ]
  },
  {
   "cell_type": "markdown",
   "metadata": {},
   "source": [
    "# Your mission: \n",
    "\n",
    "Your mission is to implement the two functions `get_nodes_number` and `get_tree_height` which takes as argument a tree's root and return respectively its nodes number and its height."
   ]
  },
  {
   "cell_type": "markdown",
   "metadata": {},
   "source": [
    "###### The image below is an example of a binary tree with 7 nodes and a height of 3.\n",
    "![binary_tree.png](attachment:binary_tree.png)"
   ]
  },
  {
   "cell_type": "markdown",
   "metadata": {},
   "source": [
    "We can define the graph above as the set of the following nodes."
   ]
  },
  {
   "cell_type": "code",
   "execution_count": 39,
   "metadata": {},
   "outputs": [],
   "source": [
    "node_7 = Node(None, None)\n",
    "node_6 = Node(None, None)\n",
    "node_5 = Node(None, None)\n",
    "node_4 = Node(None, None)\n",
    "node_3 = Node(node_6, node_7)\n",
    "node_2 = Node(node_4, node_5)\n",
    "node_1 = Node(node_2, node_3)"
   ]
  },
  {
   "cell_type": "markdown",
   "metadata": {},
   "source": [
    "In the example above, the root node is the `node_1`"
   ]
  },
  {
   "cell_type": "markdown",
   "metadata": {},
   "source": [
    "# Your code:"
   ]
  },
  {
   "cell_type": "code",
   "execution_count": 40,
   "metadata": {},
   "outputs": [],
   "source": [
    "# Implement this function.\n",
    "# Hint: Use recursion\n",
    "def get_nodes_number(root_node):\n",
    "    \"\"\"\n",
    "    param: root_node: The root node of a graph.\n",
    "    This function should return number of nodes in the tree.\n",
    "    \"\"\"\n",
    "    if root_node is None:\n",
    "        return 0\n",
    "    \n",
    "    else:\n",
    "        return 1 + get_nodes_number(root_node.right_child) + get_nodes_number(root_node.left_child)"
   ]
  },
  {
   "cell_type": "code",
   "execution_count": 41,
   "metadata": {},
   "outputs": [],
   "source": [
    "# Implement this function.\n",
    "\n",
    "def get_tree_height(root_node):\n",
    "    \"\"\"\n",
    "    param: root_node: The root node of a graph.\n",
    "    This function should return the tree's height.\n",
    "    \"\"\"\n",
    "    if root_node is None:\n",
    "        return 0\n",
    "    \n",
    "    else:\n",
    "        return 1 + max(get_tree_height(root_node.left_child), get_tree_height(root_node.right_child))\n"
   ]
  },
  {
   "cell_type": "markdown",
   "metadata": {},
   "source": [
    "# Test your code !!"
   ]
  },
  {
   "cell_type": "code",
   "execution_count": 42,
   "metadata": {},
   "outputs": [
    {
     "name": "stdout",
     "output_type": "stream",
     "text": [
      "7\n"
     ]
    }
   ],
   "source": [
    "# This cell should print '7' when executed.\n",
    "print(get_nodes_number(node_1))"
   ]
  },
  {
   "cell_type": "code",
   "execution_count": 43,
   "metadata": {},
   "outputs": [
    {
     "name": "stdout",
     "output_type": "stream",
     "text": [
      "3\n"
     ]
    }
   ],
   "source": [
    "# This cell should print '3' when executed.\n",
    "print(get_tree_height(node_1))"
   ]
  },
  {
   "cell_type": "code",
   "execution_count": null,
   "metadata": {},
   "outputs": [],
   "source": []
  }
 ],
 "metadata": {
  "kernelspec": {
   "display_name": "Python 3",
   "language": "python",
   "name": "python3"
  },
  "language_info": {
   "codemirror_mode": {
    "name": "ipython",
    "version": 3
   },
   "file_extension": ".py",
   "mimetype": "text/x-python",
   "name": "python",
   "nbconvert_exporter": "python",
   "pygments_lexer": "ipython3",
   "version": "3.7.4"
  }
 },
 "nbformat": 4,
 "nbformat_minor": 1
}
